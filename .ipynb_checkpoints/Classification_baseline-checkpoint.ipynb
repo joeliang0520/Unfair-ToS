{
 "cells": [
  {
   "cell_type": "code",
   "execution_count": 1,
   "metadata": {},
   "outputs": [],
   "source": [
    "import pandas as pd\n",
    "import numpy as np"
   ]
  },
  {
   "cell_type": "markdown",
   "metadata": {},
   "source": [
    "### Importing the dataset"
   ]
  },
  {
   "cell_type": "code",
   "execution_count": 2,
   "metadata": {},
   "outputs": [
    {
     "data": {
      "text/html": [
       "<div>\n",
       "<style scoped>\n",
       "    .dataframe tbody tr th:only-of-type {\n",
       "        vertical-align: middle;\n",
       "    }\n",
       "\n",
       "    .dataframe tbody tr th {\n",
       "        vertical-align: top;\n",
       "    }\n",
       "\n",
       "    .dataframe thead th {\n",
       "        text-align: right;\n",
       "    }\n",
       "</style>\n",
       "<table border=\"1\" class=\"dataframe\">\n",
       "  <thead>\n",
       "    <tr style=\"text-align: right;\">\n",
       "      <th></th>\n",
       "      <th>text</th>\n",
       "      <th>fair</th>\n",
       "    </tr>\n",
       "  </thead>\n",
       "  <tbody>\n",
       "    <tr>\n",
       "      <th>0</th>\n",
       "      <td>websites &amp; communications terms of use</td>\n",
       "      <td>1</td>\n",
       "    </tr>\n",
       "    <tr>\n",
       "      <th>1</th>\n",
       "      <td>please read the terms of this entire document ...</td>\n",
       "      <td>1</td>\n",
       "    </tr>\n",
       "    <tr>\n",
       "      <th>2</th>\n",
       "      <td>by accessing or signing up to receive communic...</td>\n",
       "      <td>0</td>\n",
       "    </tr>\n",
       "    <tr>\n",
       "      <th>3</th>\n",
       "      <td>our websites include multiple domains such as ...</td>\n",
       "      <td>1</td>\n",
       "    </tr>\n",
       "    <tr>\n",
       "      <th>4</th>\n",
       "      <td>you may also recognize our websites by nicknam...</td>\n",
       "      <td>1</td>\n",
       "    </tr>\n",
       "    <tr>\n",
       "      <th>...</th>\n",
       "      <td>...</td>\n",
       "      <td>...</td>\n",
       "    </tr>\n",
       "    <tr>\n",
       "      <th>20412</th>\n",
       "      <td>you may terminate your account at our service ...</td>\n",
       "      <td>1</td>\n",
       "    </tr>\n",
       "    <tr>\n",
       "      <th>20413</th>\n",
       "      <td>the following provisions shall survive termina...</td>\n",
       "      <td>1</td>\n",
       "    </tr>\n",
       "    <tr>\n",
       "      <th>20414</th>\n",
       "      <td>the company reserves the right , at its sole d...</td>\n",
       "      <td>0</td>\n",
       "    </tr>\n",
       "    <tr>\n",
       "      <th>20415</th>\n",
       "      <td>your continued use of the service , following ...</td>\n",
       "      <td>0</td>\n",
       "    </tr>\n",
       "    <tr>\n",
       "      <th>20416</th>\n",
       "      <td>the last revision will be reflected in the `` ...</td>\n",
       "      <td>1</td>\n",
       "    </tr>\n",
       "  </tbody>\n",
       "</table>\n",
       "<p>20417 rows × 2 columns</p>\n",
       "</div>"
      ],
      "text/plain": [
       "                                                    text  fair\n",
       "0                 websites & communications terms of use     1\n",
       "1      please read the terms of this entire document ...     1\n",
       "2      by accessing or signing up to receive communic...     0\n",
       "3      our websites include multiple domains such as ...     1\n",
       "4      you may also recognize our websites by nicknam...     1\n",
       "...                                                  ...   ...\n",
       "20412  you may terminate your account at our service ...     1\n",
       "20413  the following provisions shall survive termina...     1\n",
       "20414  the company reserves the right , at its sole d...     0\n",
       "20415  your continued use of the service , following ...     0\n",
       "20416  the last revision will be reflected in the `` ...     1\n",
       "\n",
       "[20417 rows x 2 columns]"
      ]
     },
     "execution_count": 2,
     "metadata": {},
     "output_type": "execute_result"
    }
   ],
   "source": [
    "df = pd.read_csv('Dataset/ToS-100-cleaned.csv',header=0,encoding='utf-8') \n",
    "# A, CH, CR, J, LAW, LTD, PINC, TER, USE\n",
    "data = df[['text', 'fair']]\n",
    "data"
   ]
  },
  {
   "cell_type": "markdown",
   "metadata": {},
   "source": [
    "## Reading the dataset"
   ]
  },
  {
   "cell_type": "code",
   "execution_count": 3,
   "metadata": {},
   "outputs": [],
   "source": [
    "text = []\n",
    "labels = []\n",
    "\n",
    "for index, row in data.iterrows():\n",
    "    text.append(row['text'])\n",
    "    labels.append(row['fair'])"
   ]
  },
  {
   "cell_type": "markdown",
   "metadata": {},
   "source": [
    "#### HyperParameter"
   ]
  },
  {
   "cell_type": "code",
   "execution_count": 4,
   "metadata": {},
   "outputs": [],
   "source": [
    "embd_size = 64"
   ]
  },
  {
   "cell_type": "markdown",
   "metadata": {},
   "source": [
    "## Tokenization and Embedding"
   ]
  },
  {
   "cell_type": "code",
   "execution_count": 5,
   "metadata": {},
   "outputs": [
    {
     "name": "stderr",
     "output_type": "stream",
     "text": [
      "[nltk_data] Downloading package punkt to /Users/tsanten/nltk_data...\n",
      "[nltk_data]   Package punkt is already up-to-date!\n"
     ]
    }
   ],
   "source": [
    "from gensim.models import Word2Vec\n",
    "from nltk.tokenize import word_tokenize\n",
    "import nltk\n",
    "\n",
    "nltk.download('punkt')  \n",
    "\n",
    "# Tokenize the sentences\n",
    "tokenized_sentences = [word_tokenize(tos.lower()) for tos in text]\n",
    "\n",
    "# Train the Word2Vec model\n",
    "embedding = Word2Vec(sentences=tokenized_sentences, vector_size=embd_size, window=5, min_count=1, workers=4)\n",
    "\n",
    "# Save the model\n",
    "embedding.save(\"word2vec_model_tos\")\n",
    "\n",
    "# Access word embeddings\n",
    "word_embeddings = embedding.wv\n",
    "tos_embeddings = [[word_embeddings[word] for word in tos] for tos in tokenized_sentences]"
   ]
  },
  {
   "cell_type": "code",
   "execution_count": 6,
   "metadata": {
    "scrolled": true
   },
   "outputs": [
    {
     "data": {
      "image/png": "[encoded data removed]",
      "text/plain": [
       "<Figure size 640x480 with 1 Axes>"
      ]
     },
     "metadata": {},
     "output_type": "display_data"
    },
    {
     "name": "stdout",
     "output_type": "stream",
     "text": [
      "number of sentences longer than 128 : 183\n",
      "number of fair sentences : 18239\n",
      "number of unfair sentences : 2178\n"
     ]
    }
   ],
   "source": [
    "import matplotlib.pyplot as plt\n",
    "\n",
    "# collect the length of sentences\n",
    "# used to decide on a practical sequence_length for training\n",
    "length_data = [len(tos) for tos in tokenized_sentences]\n",
    "\n",
    "plt.hist(length_data, bins='auto', alpha=0.7, color='blue', edgecolor='black')\n",
    "plt.show()\n",
    "\n",
    "# no of sentences longer than threshold\n",
    "threshold = 128\n",
    "print(f\"number of sentences longer than {threshold} : {len([l for l in length_data if l > threshold])}\")\n",
    "\n",
    "# no of fair sentences\n",
    "print(f\"number of fair sentences : {len([fair for fair in labels if fair == 1])}\")\n",
    "\n",
    "# no of unir sentences\n",
    "print(f\"number of unfair sentences : {len([fair for fair in labels if fair == 0])}\")"
   ]
  },
  {
   "cell_type": "markdown",
   "metadata": {},
   "source": [
    "* No of sentences longer than 128 is just 183. Taking the sequence length for training to be 128.\n",
    "\n",
    "#### HyperParameter"
   ]
  },
  {
   "cell_type": "code",
   "execution_count": 7,
   "metadata": {},
   "outputs": [],
   "source": [
    "max_length = 128"
   ]
  },
  {
   "cell_type": "markdown",
   "metadata": {},
   "source": [
    "## Clean the dataset\n",
    "\n",
    "* Crop sentences longer than seq_length.\n",
    "* Add padding to the beginning of other sentences.\n",
    "* Fix the class imbalance between fair and unfair sentences."
   ]
  },
  {
   "cell_type": "code",
   "execution_count": 8,
   "metadata": {},
   "outputs": [
    {
     "name": "stdout",
     "output_type": "stream",
     "text": [
      "After SMOTE sampling\n",
      "number of fair sentences: 18239\n",
      "number of unfair sentences: 18239\n"
     ]
    }
   ],
   "source": [
    "from sklearn.model_selection import train_test_split\n",
    "from imblearn.over_sampling import SMOTE\n",
    "import torch\n",
    "\n",
    "def crop_and_pad(sentence, seq_length=max_length):\n",
    "    length = len(sentence)\n",
    "\n",
    "    if length > seq_length:\n",
    "        new_sentence = sentence[:seq_length]\n",
    "    else:\n",
    "        new_sentence = [np.zeros(embd_size)]*(seq_length - length) + sentence\n",
    "\n",
    "    return new_sentence\n",
    "\n",
    "# crop and pad\n",
    "processed_embeddings = np.stack([crop_and_pad(tos) for tos in tos_embeddings], axis = 0)\n",
    "\n",
    "# class balancing\n",
    "smote = SMOTE(sampling_strategy='auto', random_state=42)\n",
    "\n",
    "indices = [[i] for i in range(len(labels))] # smote requires 2-D array!\n",
    "\n",
    "indices, labels = smote.fit_resample(indices, labels) # smote cannot work on text data, so passing indices\n",
    "\n",
    "processed_embeddings = [torch.tensor(processed_embeddings[i[0]], dtype=torch.float32) for i in indices]\n",
    "labels = torch.tensor(labels, dtype=torch.float32)\n",
    "\n",
    "# make sure class balance is achieved\n",
    "print(\"After SMOTE sampling\")\n",
    "print(f\"number of fair sentences: {len([fair for fair in labels if fair == 1])}\")\n",
    "print(f\"number of unfair sentences: {len([fair for fair in labels if fair == 0])}\")\n",
    "\n",
    "dataset = list(zip(processed_embeddings, labels))\n",
    "\n",
    "# Split the data into training and testing sets\n",
    "train_dataset, test_dataset = train_test_split(dataset, test_size=0.1, random_state=42)"
   ]
  },
  {
   "cell_type": "markdown",
   "metadata": {},
   "source": [
    "#### HyperParameter"
   ]
  },
  {
   "cell_type": "code",
   "execution_count": 9,
   "metadata": {},
   "outputs": [],
   "source": [
    "batch_size = 128"
   ]
  },
  {
   "cell_type": "code",
   "execution_count": 10,
   "metadata": {},
   "outputs": [],
   "source": [
    "from torch.utils.data import DataLoader\n",
    "\n",
    "train_loader = DataLoader(train_dataset, batch_size=batch_size, shuffle=True)\n",
    "test_loader = DataLoader(test_dataset, batch_size=batch_size, shuffle=True)"
   ]
  },
  {
   "cell_type": "markdown",
   "metadata": {},
   "source": [
    "## Classification_model"
   ]
  },
  {
   "cell_type": "markdown",
   "metadata": {},
   "source": [
    "#### HyperParameter"
   ]
  },
  {
   "cell_type": "code",
   "execution_count": 11,
   "metadata": {},
   "outputs": [],
   "source": [
    "n_layers = 4\n",
    "hidden_size = 256\n",
    "lr = 1e-2"
   ]
  },
  {
   "cell_type": "code",
   "execution_count": 12,
   "metadata": {},
   "outputs": [],
   "source": [
    "import torch.nn as nn\n",
    "\n",
    "# Define the GRU-based model\n",
    "class GRUClassifier(nn.Module):\n",
    "    def __init__(self, embedding_dim=embd_size, hidden_dim=hidden_size, n_layers=n_layers):\n",
    "        super(GRUClassifier, self).__init__()\n",
    "        self.gru = nn.GRU(embedding_dim, hidden_dim, batch_first=True)\n",
    "        self.fc = nn.Linear(hidden_dim, 1)\n",
    "        self.sigmoid = nn.Sigmoid()\n",
    "\n",
    "    def forward(self, x):\n",
    "        output, _ = self.gru(x)\n",
    "        last_hidden_state = output[:, -1, :]\n",
    "        logits = self.fc(last_hidden_state)\n",
    "        return self.sigmoid(logits)"
   ]
  },
  {
   "cell_type": "code",
   "execution_count": 13,
   "metadata": {},
   "outputs": [],
   "source": [
    "import torch.optim as optim\n",
    "\n",
    "# Instantiate the model, criterion, and optimizer\n",
    "model = GRUClassifier()\n",
    "criterion = nn.BCELoss()\n",
    "optimizer = optim.Adam(model.parameters(), lr=lr)\n",
    "\n",
    "if torch.backends.mps.is_available():\n",
    "    device = torch.device(\"mps\")\n",
    "elif torch.cuda.is_available():\n",
    "    device = torch.device(\"cuda\")\n",
    "else:\n",
    "    device = torch.device(\"cpu\")\n",
    "    \n",
    "model = model.to(device)"
   ]
  },
  {
   "cell_type": "code",
   "execution_count": null,
   "metadata": {},
   "outputs": [],
   "source": [
    "# Training loop\n",
    "num_epochs = 5\n",
    "\n",
    "for epoch in range(num_epochs):\n",
    "    for tos, labels in train_loader:\n",
    "        \n",
    "        tos, labels = tos.to(device), labels.to(device)\n",
    "        \n",
    "        # Forward pass\n",
    "        logits = model(tos)\n",
    "\n",
    "        # Calculate loss\n",
    "        loss = criterion(logits.squeeze(), labels)\n",
    "\n",
    "        # Backward pass and optimization\n",
    "        optimizer.zero_grad()\n",
    "        loss.backward()\n",
    "        optimizer.step()\n",
    "\n",
    "    # Evaluate the model (you should have a separate validation set)\n",
    "    with torch.no_grad():\n",
    "        model.eval()\n",
    "\n",
    "        accuracy = 0\n",
    "        for i, data in enumerate(test_loader):   \n",
    "            tos, labels = data\n",
    "            tos, labels = tos.to(device), labels.to(device)\n",
    "            # Forward pass\n",
    "            logits = model(tos)      \n",
    "            predictions = (logits.squeeze() > 0.5).float()\n",
    "            batch_accuracy = (predictions == labels).float().mean()\n",
    "            accuracy += batch_accuracy.item()\n",
    "        print(f'Epoch {epoch + 1}/{num_epochs}, Accuracy: {accuracy/i*100}')"
   ]
  },
  {
   "cell_type": "code",
   "execution_count": null,
   "metadata": {},
   "outputs": [],
   "source": []
  }
 ],
 "metadata": {
  "kernelspec": {
   "display_name": "Python 3 (ipykernel)",
   "language": "python",
   "name": "python3"
  },
  "language_info": {
   "codemirror_mode": {
    "name": "ipython",
    "version": 3
   },
   "file_extension": ".py",
   "mimetype": "text/x-python",
   "name": "python",
   "nbconvert_exporter": "python",
   "pygments_lexer": "ipython3",
   "version": "3.11.6"
  }
 },
 "nbformat": 4,
 "nbformat_minor": 2
}
