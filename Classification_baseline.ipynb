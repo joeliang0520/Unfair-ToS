{
  "cells": [
    {
      "cell_type": "code",
      "execution_count": 1,
      "metadata": {
        "id": "O7Bjj4a26pBR"
      },
      "outputs": [],
      "source": [
        "import pandas as pd\n",
        "import numpy as np"
      ]
    },
    {
      "cell_type": "markdown",
      "metadata": {
        "id": "LV2_O66W6pBU"
      },
      "source": [
        "### Importing the dataset"
      ]
    },
    {
      "cell_type": "code",
      "source": [
        "from google.colab import drive\n",
        "drive.mount('/content/drive')\n",
        "%cd /content/drive/MyDrive/Colab\\ Notebooks/ECE \\1786/project/"
      ],
      "metadata": {
        "colab": {
          "base_uri": "https://localhost:8080/"
        },
        "id": "BJJKQaMb7JPT",
        "outputId": "a21c65ce-17e8-403b-d3f0-c4186eec89ee"
      },
      "execution_count": 2,
      "outputs": [
        {
          "output_type": "stream",
          "name": "stdout",
          "text": [
            "Drive already mounted at /content/drive; to attempt to forcibly remount, call drive.mount(\"/content/drive\", force_remount=True).\n",
            "/content/drive/MyDrive/Colab Notebooks/ECE 1786/project\n"
          ]
        }
      ]
    },
    {
      "cell_type": "code",
      "execution_count": 3,
      "metadata": {
        "id": "r80i4aP-6pBV",
        "outputId": "fda8260b-b964-4c8f-e33a-426a16638699",
        "colab": {
          "base_uri": "https://localhost:8080/",
          "height": 419
        }
      },
      "outputs": [
        {
          "output_type": "execute_result",
          "data": {
            "text/plain": [
              "                                                    text  fair\n",
              "0                 websites & communications terms of use     1\n",
              "1      please read the terms of this entire document ...     1\n",
              "2      by accessing or signing up to receive communic...     0\n",
              "3      our websites include multiple domains such as ...     1\n",
              "4      you may also recognize our websites by nicknam...     1\n",
              "...                                                  ...   ...\n",
              "20412  you may terminate your account at our service ...     1\n",
              "20413  the following provisions shall survive termina...     1\n",
              "20414  the company reserves the right , at its sole d...     0\n",
              "20415  your continued use of the service , following ...     0\n",
              "20416  the last revision will be reflected in the `` ...     1\n",
              "\n",
              "[20417 rows x 2 columns]"
            ],
            "text/html": [
              "\n",
              "  <div id=\"df-17aa4d2a-cd33-4232-a017-c7a481ea9ebf\" class=\"colab-df-container\">\n",
              "    <div>\n",
              "<style scoped>\n",
              "    .dataframe tbody tr th:only-of-type {\n",
              "        vertical-align: middle;\n",
              "    }\n",
              "\n",
              "    .dataframe tbody tr th {\n",
              "        vertical-align: top;\n",
              "    }\n",
              "\n",
              "    .dataframe thead th {\n",
              "        text-align: right;\n",
              "    }\n",
              "</style>\n",
              "<table border=\"1\" class=\"dataframe\">\n",
              "  <thead>\n",
              "    <tr style=\"text-align: right;\">\n",
              "      <th></th>\n",
              "      <th>text</th>\n",
              "      <th>fair</th>\n",
              "    </tr>\n",
              "  </thead>\n",
              "  <tbody>\n",
              "    <tr>\n",
              "      <th>0</th>\n",
              "      <td>websites &amp; communications terms of use</td>\n",
              "      <td>1</td>\n",
              "    </tr>\n",
              "    <tr>\n",
              "      <th>1</th>\n",
              "      <td>please read the terms of this entire document ...</td>\n",
              "      <td>1</td>\n",
              "    </tr>\n",
              "    <tr>\n",
              "      <th>2</th>\n",
              "      <td>by accessing or signing up to receive communic...</td>\n",
              "      <td>0</td>\n",
              "    </tr>\n",
              "    <tr>\n",
              "      <th>3</th>\n",
              "      <td>our websites include multiple domains such as ...</td>\n",
              "      <td>1</td>\n",
              "    </tr>\n",
              "    <tr>\n",
              "      <th>4</th>\n",
              "      <td>you may also recognize our websites by nicknam...</td>\n",
              "      <td>1</td>\n",
              "    </tr>\n",
              "    <tr>\n",
              "      <th>...</th>\n",
              "      <td>...</td>\n",
              "      <td>...</td>\n",
              "    </tr>\n",
              "    <tr>\n",
              "      <th>20412</th>\n",
              "      <td>you may terminate your account at our service ...</td>\n",
              "      <td>1</td>\n",
              "    </tr>\n",
              "    <tr>\n",
              "      <th>20413</th>\n",
              "      <td>the following provisions shall survive termina...</td>\n",
              "      <td>1</td>\n",
              "    </tr>\n",
              "    <tr>\n",
              "      <th>20414</th>\n",
              "      <td>the company reserves the right , at its sole d...</td>\n",
              "      <td>0</td>\n",
              "    </tr>\n",
              "    <tr>\n",
              "      <th>20415</th>\n",
              "      <td>your continued use of the service , following ...</td>\n",
              "      <td>0</td>\n",
              "    </tr>\n",
              "    <tr>\n",
              "      <th>20416</th>\n",
              "      <td>the last revision will be reflected in the `` ...</td>\n",
              "      <td>1</td>\n",
              "    </tr>\n",
              "  </tbody>\n",
              "</table>\n",
              "<p>20417 rows × 2 columns</p>\n",
              "</div>\n",
              "    <div class=\"colab-df-buttons\">\n",
              "\n",
              "  <div class=\"colab-df-container\">\n",
              "    <button class=\"colab-df-convert\" onclick=\"convertToInteractive('df-17aa4d2a-cd33-4232-a017-c7a481ea9ebf')\"\n",
              "            title=\"Convert this dataframe to an interactive table.\"\n",
              "            style=\"display:none;\">\n",
              "\n",
              "  <svg xmlns=\"http://www.w3.org/2000/svg\" height=\"24px\" viewBox=\"0 -960 960 960\">\n",
              "    <path d=\"M120-120v-720h720v720H120Zm60-500h600v-160H180v160Zm220 220h160v-160H400v160Zm0 220h160v-160H400v160ZM180-400h160v-160H180v160Zm440 0h160v-160H620v160ZM180-180h160v-160H180v160Zm440 0h160v-160H620v160Z\"/>\n",
              "  </svg>\n",
              "    </button>\n",
              "\n",
              "  <style>\n",
              "    .colab-df-container {\n",
              "      display:flex;\n",
              "      gap: 12px;\n",
              "    }\n",
              "\n",
              "    .colab-df-convert {\n",
              "      background-color: #E8F0FE;\n",
              "      border: none;\n",
              "      border-radius: 50%;\n",
              "      cursor: pointer;\n",
              "      display: none;\n",
              "      fill: #1967D2;\n",
              "      height: 32px;\n",
              "      padding: 0 0 0 0;\n",
              "      width: 32px;\n",
              "    }\n",
              "\n",
              "    .colab-df-convert:hover {\n",
              "      background-color: #E2EBFA;\n",
              "      box-shadow: 0px 1px 2px rgba(60, 64, 67, 0.3), 0px 1px 3px 1px rgba(60, 64, 67, 0.15);\n",
              "      fill: #174EA6;\n",
              "    }\n",
              "\n",
              "    .colab-df-buttons div {\n",
              "      margin-bottom: 4px;\n",
              "    }\n",
              "\n",
              "    [theme=dark] .colab-df-convert {\n",
              "      background-color: #3B4455;\n",
              "      fill: #D2E3FC;\n",
              "    }\n",
              "\n",
              "    [theme=dark] .colab-df-convert:hover {\n",
              "      background-color: #434B5C;\n",
              "      box-shadow: 0px 1px 3px 1px rgba(0, 0, 0, 0.15);\n",
              "      filter: drop-shadow(0px 1px 2px rgba(0, 0, 0, 0.3));\n",
              "      fill: #FFFFFF;\n",
              "    }\n",
              "  </style>\n",
              "\n",
              "    <script>\n",
              "      const buttonEl =\n",
              "        document.querySelector('#df-17aa4d2a-cd33-4232-a017-c7a481ea9ebf button.colab-df-convert');\n",
              "      buttonEl.style.display =\n",
              "        google.colab.kernel.accessAllowed ? 'block' : 'none';\n",
              "\n",
              "      async function convertToInteractive(key) {\n",
              "        const element = document.querySelector('#df-17aa4d2a-cd33-4232-a017-c7a481ea9ebf');\n",
              "        const dataTable =\n",
              "          await google.colab.kernel.invokeFunction('convertToInteractive',\n",
              "                                                    [key], {});\n",
              "        if (!dataTable) return;\n",
              "\n",
              "        const docLinkHtml = 'Like what you see? Visit the ' +\n",
              "          '<a target=\"_blank\" href=https://colab.research.google.com/notebooks/data_table.ipynb>data table notebook</a>'\n",
              "          + ' to learn more about interactive tables.';\n",
              "        element.innerHTML = '';\n",
              "        dataTable['output_type'] = 'display_data';\n",
              "        await google.colab.output.renderOutput(dataTable, element);\n",
              "        const docLink = document.createElement('div');\n",
              "        docLink.innerHTML = docLinkHtml;\n",
              "        element.appendChild(docLink);\n",
              "      }\n",
              "    </script>\n",
              "  </div>\n",
              "\n",
              "\n",
              "<div id=\"df-61bdbdf4-5c37-42f3-9e58-24be0dff0eda\">\n",
              "  <button class=\"colab-df-quickchart\" onclick=\"quickchart('df-61bdbdf4-5c37-42f3-9e58-24be0dff0eda')\"\n",
              "            title=\"Suggest charts\"\n",
              "            style=\"display:none;\">\n",
              "\n",
              "<svg xmlns=\"http://www.w3.org/2000/svg\" height=\"24px\"viewBox=\"0 0 24 24\"\n",
              "     width=\"24px\">\n",
              "    <g>\n",
              "        <path d=\"M19 3H5c-1.1 0-2 .9-2 2v14c0 1.1.9 2 2 2h14c1.1 0 2-.9 2-2V5c0-1.1-.9-2-2-2zM9 17H7v-7h2v7zm4 0h-2V7h2v10zm4 0h-2v-4h2v4z\"/>\n",
              "    </g>\n",
              "</svg>\n",
              "  </button>\n",
              "\n",
              "<style>\n",
              "  .colab-df-quickchart {\n",
              "      --bg-color: #E8F0FE;\n",
              "      --fill-color: #1967D2;\n",
              "      --hover-bg-color: #E2EBFA;\n",
              "      --hover-fill-color: #174EA6;\n",
              "      --disabled-fill-color: #AAA;\n",
              "      --disabled-bg-color: #DDD;\n",
              "  }\n",
              "\n",
              "  [theme=dark] .colab-df-quickchart {\n",
              "      --bg-color: #3B4455;\n",
              "      --fill-color: #D2E3FC;\n",
              "      --hover-bg-color: #434B5C;\n",
              "      --hover-fill-color: #FFFFFF;\n",
              "      --disabled-bg-color: #3B4455;\n",
              "      --disabled-fill-color: #666;\n",
              "  }\n",
              "\n",
              "  .colab-df-quickchart {\n",
              "    background-color: var(--bg-color);\n",
              "    border: none;\n",
              "    border-radius: 50%;\n",
              "    cursor: pointer;\n",
              "    display: none;\n",
              "    fill: var(--fill-color);\n",
              "    height: 32px;\n",
              "    padding: 0;\n",
              "    width: 32px;\n",
              "  }\n",
              "\n",
              "  .colab-df-quickchart:hover {\n",
              "    background-color: var(--hover-bg-color);\n",
              "    box-shadow: 0 1px 2px rgba(60, 64, 67, 0.3), 0 1px 3px 1px rgba(60, 64, 67, 0.15);\n",
              "    fill: var(--button-hover-fill-color);\n",
              "  }\n",
              "\n",
              "  .colab-df-quickchart-complete:disabled,\n",
              "  .colab-df-quickchart-complete:disabled:hover {\n",
              "    background-color: var(--disabled-bg-color);\n",
              "    fill: var(--disabled-fill-color);\n",
              "    box-shadow: none;\n",
              "  }\n",
              "\n",
              "  .colab-df-spinner {\n",
              "    border: 2px solid var(--fill-color);\n",
              "    border-color: transparent;\n",
              "    border-bottom-color: var(--fill-color);\n",
              "    animation:\n",
              "      spin 1s steps(1) infinite;\n",
              "  }\n",
              "\n",
              "  @keyframes spin {\n",
              "    0% {\n",
              "      border-color: transparent;\n",
              "      border-bottom-color: var(--fill-color);\n",
              "      border-left-color: var(--fill-color);\n",
              "    }\n",
              "    20% {\n",
              "      border-color: transparent;\n",
              "      border-left-color: var(--fill-color);\n",
              "      border-top-color: var(--fill-color);\n",
              "    }\n",
              "    30% {\n",
              "      border-color: transparent;\n",
              "      border-left-color: var(--fill-color);\n",
              "      border-top-color: var(--fill-color);\n",
              "      border-right-color: var(--fill-color);\n",
              "    }\n",
              "    40% {\n",
              "      border-color: transparent;\n",
              "      border-right-color: var(--fill-color);\n",
              "      border-top-color: var(--fill-color);\n",
              "    }\n",
              "    60% {\n",
              "      border-color: transparent;\n",
              "      border-right-color: var(--fill-color);\n",
              "    }\n",
              "    80% {\n",
              "      border-color: transparent;\n",
              "      border-right-color: var(--fill-color);\n",
              "      border-bottom-color: var(--fill-color);\n",
              "    }\n",
              "    90% {\n",
              "      border-color: transparent;\n",
              "      border-bottom-color: var(--fill-color);\n",
              "    }\n",
              "  }\n",
              "</style>\n",
              "\n",
              "  <script>\n",
              "    async function quickchart(key) {\n",
              "      const quickchartButtonEl =\n",
              "        document.querySelector('#' + key + ' button');\n",
              "      quickchartButtonEl.disabled = true;  // To prevent multiple clicks.\n",
              "      quickchartButtonEl.classList.add('colab-df-spinner');\n",
              "      try {\n",
              "        const charts = await google.colab.kernel.invokeFunction(\n",
              "            'suggestCharts', [key], {});\n",
              "      } catch (error) {\n",
              "        console.error('Error during call to suggestCharts:', error);\n",
              "      }\n",
              "      quickchartButtonEl.classList.remove('colab-df-spinner');\n",
              "      quickchartButtonEl.classList.add('colab-df-quickchart-complete');\n",
              "    }\n",
              "    (() => {\n",
              "      let quickchartButtonEl =\n",
              "        document.querySelector('#df-61bdbdf4-5c37-42f3-9e58-24be0dff0eda button');\n",
              "      quickchartButtonEl.style.display =\n",
              "        google.colab.kernel.accessAllowed ? 'block' : 'none';\n",
              "    })();\n",
              "  </script>\n",
              "</div>\n",
              "    </div>\n",
              "  </div>\n"
            ]
          },
          "metadata": {},
          "execution_count": 3
        }
      ],
      "source": [
        "df = pd.read_csv('Dataset/ToS-100-cleaned.csv',header=0,encoding='utf-8')\n",
        "# A, CH, CR, J, LAW, LTD, PINC, TER, USE\n",
        "data = df[['text', 'fair']]\n",
        "data"
      ]
    },
    {
      "cell_type": "markdown",
      "metadata": {
        "id": "yRCf939K6pBV"
      },
      "source": [
        "## Reading the dataset"
      ]
    },
    {
      "cell_type": "code",
      "execution_count": 4,
      "metadata": {
        "id": "7zE__vg46pBV"
      },
      "outputs": [],
      "source": [
        "text = []\n",
        "labels = []\n",
        "\n",
        "for index, row in data.iterrows():\n",
        "    text.append(row['text'])\n",
        "    labels.append(row['fair'])"
      ]
    },
    {
      "cell_type": "markdown",
      "metadata": {
        "id": "InUKUGRA6pBW"
      },
      "source": [
        "#### HyperParameter"
      ]
    },
    {
      "cell_type": "code",
      "execution_count": 5,
      "metadata": {
        "id": "9g7K3WxS6pBW"
      },
      "outputs": [],
      "source": [
        "embd_size = 64"
      ]
    },
    {
      "cell_type": "markdown",
      "metadata": {
        "id": "VtbFUYQ36pBW"
      },
      "source": [
        "## Tokenization and Embedding"
      ]
    },
    {
      "cell_type": "code",
      "execution_count": 6,
      "metadata": {
        "id": "jSPPCL2Z6pBW",
        "outputId": "0f8b6ab5-ac09-401e-b298-f2bd0f106aa8",
        "colab": {
          "base_uri": "https://localhost:8080/"
        }
      },
      "outputs": [
        {
          "output_type": "stream",
          "name": "stderr",
          "text": [
            "[nltk_data] Downloading package punkt to /root/nltk_data...\n",
            "[nltk_data]   Package punkt is already up-to-date!\n"
          ]
        }
      ],
      "source": [
        "from gensim.models import Word2Vec\n",
        "from nltk.tokenize import word_tokenize\n",
        "import nltk\n",
        "\n",
        "nltk.download('punkt')\n",
        "\n",
        "# Tokenize the sentences\n",
        "tokenized_sentences = [word_tokenize(tos.lower()) for tos in text]\n",
        "\n",
        "# Train the Word2Vec model\n",
        "embedding = Word2Vec(sentences=tokenized_sentences, vector_size=embd_size, window=5, min_count=1, workers=4)\n",
        "\n",
        "# Save the model\n",
        "embedding.save(\"word2vec_model_tos\")\n",
        "\n",
        "# Access word embeddings\n",
        "word_embeddings = embedding.wv\n",
        "tos_embeddings = [[word_embeddings[word] for word in tos] for tos in tokenized_sentences]"
      ]
    },
    {
      "cell_type": "code",
      "execution_count": 7,
      "metadata": {
        "scrolled": true,
        "id": "l_YIdy0D6pBX",
        "outputId": "c7e17fa5-91d9-49e3-d14e-0d1bc86deeb5",
        "colab": {
          "base_uri": "https://localhost:8080/",
          "height": 481
        }
      },
      "outputs": [
        {
          "output_type": "display_data",
          "data": {
            "text/plain": [
              "<Figure size 640x480 with 1 Axes>"
            ],
            "image/png": "[encoded data removed]"
          },
          "metadata": {}
        },
        {
          "output_type": "stream",
          "name": "stdout",
          "text": [
            "number of sentences longer than 128: 183\n",
            "number of fair sentences: 18239\n",
            "number of unfair sentences: 2178\n"
          ]
        }
      ],
      "source": [
        "import matplotlib.pyplot as plt\n",
        "\n",
        "# collect the length of sentences\n",
        "# used to decide on a practical sequence_length for training\n",
        "length_data = [len(tos) for tos in tokenized_sentences]\n",
        "\n",
        "plt.hist(length_data, bins='auto', alpha=0.7, color='blue', edgecolor='black')\n",
        "plt.show()\n",
        "\n",
        "# no of sentences longer than threshold\n",
        "threshold = 128\n",
        "print(f\"number of sentences longer than {threshold}: {len([l for l in length_data if l > threshold])}\")\n",
        "\n",
        "# no of fair sentences\n",
        "print(f\"number of fair sentences: {len([fair for fair in labels if fair == 1])}\")\n",
        "\n",
        "# no of unir sentences\n",
        "print(f\"number of unfair sentences: {len([fair for fair in labels if fair == 0])}\")"
      ]
    },
    {
      "cell_type": "markdown",
      "metadata": {
        "id": "1RXl2sxa6pBX"
      },
      "source": [
        "* No of sentences longer than 128 is just 183. Taking the sequence length for training to be 128.\n",
        "\n",
        "#### HyperParameter"
      ]
    },
    {
      "cell_type": "code",
      "execution_count": 8,
      "metadata": {
        "id": "ujdmp7q_6pBX"
      },
      "outputs": [],
      "source": [
        "max_length = 128"
      ]
    },
    {
      "cell_type": "markdown",
      "metadata": {
        "id": "Al15ZlVj6pBX"
      },
      "source": [
        "## Clean the dataset\n",
        "\n",
        "* Crop sentences longer than seq_length.\n",
        "* Add padding to the beginning of other sentences.\n",
        "* Fix the class imbalance between fair and unfair sentences."
      ]
    },
    {
      "cell_type": "code",
      "execution_count": 9,
      "metadata": {
        "id": "sPGcgRtU6pBX",
        "outputId": "aedf7c14-2c91-499b-9832-20073953e7c9",
        "colab": {
          "base_uri": "https://localhost:8080/"
        }
      },
      "outputs": [
        {
          "output_type": "stream",
          "name": "stdout",
          "text": [
            "After SMOTE sampling\n",
            "number of fair sentences: 18239\n",
            "number of unfair sentences: 18239\n"
          ]
        }
      ],
      "source": [
        "from sklearn.model_selection import train_test_split\n",
        "from imblearn.over_sampling import SMOTE\n",
        "import torch\n",
        "\n",
        "def crop_and_pad(sentence, seq_length=max_length):\n",
        "    length = len(sentence)\n",
        "\n",
        "    if length > seq_length:\n",
        "        new_sentence = sentence[:seq_length]\n",
        "    else:\n",
        "        new_sentence = [np.zeros(embd_size)]*(seq_length - length) + sentence\n",
        "\n",
        "    return new_sentence\n",
        "\n",
        "# crop and pad\n",
        "processed_embeddings = np.stack([crop_and_pad(tos) for tos in tos_embeddings], axis = 0)\n",
        "\n",
        "# class balancing\n",
        "smote = SMOTE(sampling_strategy='auto', random_state=42)\n",
        "\n",
        "indices = [[i] for i in range(len(labels))] # smote requires 2-D array!\n",
        "\n",
        "indices, labels = smote.fit_resample(indices, labels) # smote cannot work on text data, so passing indices\n",
        "\n",
        "processed_embeddings = [torch.tensor(processed_embeddings[i[0]], dtype=torch.float32) for i in indices]\n",
        "labels = torch.tensor(labels, dtype=torch.float32)\n",
        "\n",
        "# make sure class balance is achieved\n",
        "print(\"After SMOTE sampling\")\n",
        "print(f\"number of fair sentences: {len([fair for fair in labels if fair == 1])}\")\n",
        "print(f\"number of unfair sentences: {len([fair for fair in labels if fair == 0])}\")\n",
        "\n",
        "dataset = list(zip(processed_embeddings, labels))\n",
        "\n",
        "# Split the data into training and testing sets\n",
        "train_dataset, test_dataset = train_test_split(dataset, test_size=0.1, random_state=42)"
      ]
    },
    {
      "cell_type": "markdown",
      "metadata": {
        "id": "dK-Rr2QQ6pBY"
      },
      "source": [
        "#### HyperParameter"
      ]
    },
    {
      "cell_type": "code",
      "execution_count": 10,
      "metadata": {
        "id": "db1_tnzU6pBY"
      },
      "outputs": [],
      "source": [
        "batch_size = 128"
      ]
    },
    {
      "cell_type": "code",
      "execution_count": 11,
      "metadata": {
        "id": "_kySsEHl6pBY"
      },
      "outputs": [],
      "source": [
        "from torch.utils.data import DataLoader\n",
        "\n",
        "train_loader = DataLoader(train_dataset, batch_size=batch_size, shuffle=True)\n",
        "test_loader = DataLoader(test_dataset, batch_size=batch_size, shuffle=True)"
      ]
    },
    {
      "cell_type": "markdown",
      "metadata": {
        "id": "zO3gIwBJ6pBY"
      },
      "source": [
        "## Classification_model"
      ]
    },
    {
      "cell_type": "markdown",
      "metadata": {
        "id": "mE0KT3d26pBY"
      },
      "source": [
        "#### model_parameters"
      ]
    },
    {
      "cell_type": "code",
      "execution_count": 12,
      "metadata": {
        "id": "9BMNhY_x6pBZ"
      },
      "outputs": [],
      "source": [
        "n_layers = 4\n",
        "hidden_size = 256\n",
        "lr = 1e-2"
      ]
    },
    {
      "cell_type": "code",
      "execution_count": 13,
      "metadata": {
        "id": "38i9DBpO6pBZ"
      },
      "outputs": [],
      "source": [
        "import torch.nn as nn\n",
        "\n",
        "# Define the GRU-based model\n",
        "class GRUClassifier(nn.Module):\n",
        "    def __init__(self, embedding_dim=embd_size, hidden_dim=hidden_size, n_layers=n_layers):\n",
        "        super(GRUClassifier, self).__init__()\n",
        "        self.gru = nn.GRU(embedding_dim, hidden_dim, batch_first=True)\n",
        "        self.fc = nn.Linear(hidden_dim, 1)\n",
        "        self.sigmoid = nn.Sigmoid()\n",
        "\n",
        "    def forward(self, x):\n",
        "        output, _ = self.gru(x)\n",
        "        last_hidden_state = output[:, -1, :]\n",
        "        logits = self.fc(last_hidden_state)\n",
        "        return self.sigmoid(logits)"
      ]
    },
    {
      "cell_type": "code",
      "execution_count": 14,
      "metadata": {
        "id": "pJoMC9hc6pBZ"
      },
      "outputs": [],
      "source": [
        "import torch.optim as optim\n",
        "\n",
        "# Instantiate the model, criterion, and optimizer\n",
        "model = GRUClassifier()\n",
        "criterion = nn.BCELoss()\n",
        "optimizer = optim.Adam(model.parameters(), lr=lr)\n",
        "\n",
        "if torch.backends.mps.is_available():\n",
        "    device = torch.device(\"mps\")\n",
        "elif torch.cuda.is_available():\n",
        "    device = torch.device(\"cuda\")\n",
        "else:\n",
        "    device = torch.device(\"cpu\")\n",
        "\n",
        "model = model.to(device)"
      ]
    },
    {
      "cell_type": "code",
      "execution_count": 16,
      "metadata": {
        "id": "jwZMiaUT6pBZ",
        "outputId": "4f66ab24-0086-4149-ad5d-f408d4472f41",
        "colab": {
          "base_uri": "https://localhost:8080/"
        }
      },
      "outputs": [
        {
          "output_type": "stream",
          "name": "stdout",
          "text": [
            "Epoch 1/10, Accuracy: 71.01%\n",
            "Epoch 2/10, Accuracy: 70.65%\n",
            "Epoch 3/10, Accuracy: 71.93%\n",
            "Epoch 4/10, Accuracy: 68.05%\n",
            "Epoch 5/10, Accuracy: 72.24%\n",
            "Epoch 6/10, Accuracy: 72.35%\n",
            "Epoch 7/10, Accuracy: 71.23%\n",
            "Epoch 8/10, Accuracy: 73.16%\n",
            "Epoch 9/10, Accuracy: 72.85%\n",
            "Epoch 10/10, Accuracy: 72.68%\n"
          ]
        }
      ],
      "source": [
        "# Training loop\n",
        "num_epochs = 10\n",
        "for epoch in range(num_epochs):\n",
        "    model.train()\n",
        "    for tos, labels in train_loader:\n",
        "\n",
        "        tos, labels = tos.to(device), labels.to(device)\n",
        "\n",
        "        # Forward pass\n",
        "        logits = model(tos)\n",
        "\n",
        "        # Calculate loss\n",
        "        loss = criterion(logits.squeeze(), labels)\n",
        "\n",
        "        # Backward pass and optimization\n",
        "        optimizer.zero_grad()\n",
        "        loss.backward()\n",
        "        optimizer.step()\n",
        "\n",
        "    # Evaluate the model (you should have a separate validation set)\n",
        "    with torch.no_grad():\n",
        "        model.eval()\n",
        "\n",
        "        accuracy = 0\n",
        "        for i, data in enumerate(test_loader):\n",
        "            tos, labels = data\n",
        "            tos, labels = tos.to(device), labels.to(device)\n",
        "            # Forward pass\n",
        "            logits = model(tos)\n",
        "            predictions = (logits.squeeze() > 0.5).float()\n",
        "            batch_accuracy = (predictions == labels).float().mean()\n",
        "            accuracy += batch_accuracy.item()\n",
        "        print(f'Epoch {epoch + 1}/{num_epochs}, Accuracy: {accuracy/i*100:.2f}%')"
      ]
    },
    {
      "cell_type": "code",
      "execution_count": 15,
      "metadata": {
        "id": "Kam5GsQq6pBZ"
      },
      "outputs": [],
      "source": []
    }
  ],
  "metadata": {
    "kernelspec": {
      "display_name": "Python 3",
      "name": "python3"
    },
    "language_info": {
      "codemirror_mode": {
        "name": "ipython",
        "version": 3
      },
      "file_extension": ".py",
      "mimetype": "text/x-python",
      "name": "python",
      "nbconvert_exporter": "python",
      "pygments_lexer": "ipython3",
      "version": "3.11.6"
    },
    "colab": {
      "provenance": [],
      "gpuType": "T4"
    },
    "accelerator": "GPU"
  },
  "nbformat": 4,
  "nbformat_minor": 0
}