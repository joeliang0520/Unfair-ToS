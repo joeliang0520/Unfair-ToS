{
 "cells": [
  {
   "cell_type": "code",
   "execution_count": 99,
   "metadata": {},
   "outputs": [],
   "source": [
    "import os\n",
    "import pandas as pd\n",
    "import numpy as np\n",
    "import re\n",
    "import nltk\n",
    "import matplotlib.pyplot as plt"
   ]
  },
  {
   "cell_type": "markdown",
   "metadata": {},
   "source": [
    "### Text Summary"
   ]
  },
  {
   "cell_type": "markdown",
   "metadata": {},
   "source": [
    "filtering out tos with less than 20 hightlighted sentence"
   ]
  },
  {
   "cell_type": "code",
   "execution_count": 33,
   "metadata": {},
   "outputs": [],
   "source": [
    "path = 'Dataset for Text Summary Model/text_files/text_files_highlight'"
   ]
  },
  {
   "cell_type": "code",
   "execution_count": 136,
   "metadata": {},
   "outputs": [],
   "source": [
    "def clean(content):\n",
    "    #split the content of the file\n",
    "    tokenizer = nltk.data.load('tokenizers/punkt/english.pickle')\n",
    "    content = tokenizer.tokenize(content)\n",
    "    #add space before linebreaker\n",
    "    content = [x.replace('\\n', ' ') for x in content]\n",
    "    #remove html tags\n",
    "    content = [re.sub('<[^<]+?>', '', x) for x in content]\n",
    "    #remove extra space\n",
    "    content = [re.sub(' +', ' ', x) for x in content]\n",
    "    content = [x.strip() for x in content]\n",
    "    #remove the empty string\n",
    "    content = [x for x in content if x != '']\n",
    "    #keep only the first word capital\n",
    "    content = [x.capitalize() for x in content]\n",
    "    #drop duplicate\n",
    "    content = set(content)\n",
    "    return content       "
   ]
  },
  {
   "cell_type": "code",
   "execution_count": 162,
   "metadata": {},
   "outputs": [],
   "source": [
    "def filter(constraint,save_csv=False):\n",
    "    if not os.path.exists('Dataset for Text Summary Model/cleaned'):\n",
    "            os.makedirs('Dataset for Text Summary Model/cleaned')\n",
    "    output_path = 'Dataset for Text Summary Model/cleaned/more_than_'+str(constraint)+'_sentences'\n",
    "    #create or reset the output folder\n",
    "    if save_csv:\n",
    "        #create the output folder if not exist\n",
    "        if not os.path.exists(output_path+'/highlight'):\n",
    "            os.makedirs(output_path+'/highlight')\n",
    "        else:\n",
    "            #remove all the files in the folder\n",
    "            files = os.listdir(output_path+'/highlight')\n",
    "            for file in files:\n",
    "                os.remove(output_path+'/highlight/'+file)\n",
    "        \n",
    "        if not os.path.exists(output_path+'/original'):\n",
    "            os.makedirs(output_path+'/original')\n",
    "        else:\n",
    "            files = os.listdir(output_path+'/original')\n",
    "            for file in files:\n",
    "                os.remove(output_path+'/original/'+file)\n",
    "        \n",
    "        if not os.path.exists(output_path+'/combined'):\n",
    "            os.makedirs(output_path+'/combined')\n",
    "        else:\n",
    "            files = os.listdir(output_path+'/combined')\n",
    "            for file in files:\n",
    "                os.remove(output_path+'/combined/'+file)\n",
    "                \n",
    "    files = os.listdir(path)\n",
    "    files = [x for x in files if x != '.DS_.txt']\n",
    "\n",
    "    valid_files = []\n",
    "    num_sentences_lst = []\n",
    "    for file in files:\n",
    "        #open the file\n",
    "        with open(path+'/'+file, 'r',encoding=\"utf8\") as f:\n",
    "            #read the highlighted sentences\n",
    "            content = f.read()\n",
    "            #clean the highlighted sentences\n",
    "            content = clean(content)\n",
    "            #count the number of sentences\n",
    "            num_sentences = len(content)\n",
    "            num_sentences_lst.append(num_sentences)\n",
    "            #if the number of sentence larger than the constraint\n",
    "            if num_sentences > constraint:\n",
    "                valid_files.append(file)\n",
    "                #save cleaned sentences to csv\n",
    "                tem = pd.DataFrame(content)\n",
    "                #open original text\n",
    "                with open('Dataset for Text Summary Model/text_files/text_files_raw'+'/'+file, 'r',encoding=\"utf8\") as original:\n",
    "                    original_txt = original.read()\n",
    "                    #clean the original text and save to dataframe\n",
    "                    original_txt = pd.DataFrame({'text':list(clean(original_txt))})\n",
    "                    #create the combined dataframe\n",
    "                    combined = original_txt.copy()\n",
    "                    combined['highlighted'] = 0\n",
    "                    #if the sentence is in the highlighted sentences, set highlighted to 1\n",
    "                    for index, row in combined.iterrows():\n",
    "                        if row['text'] in tem[0].values:\n",
    "                            combined.loc[index,'highlighted'] = 1\n",
    "                    #save to csv\n",
    "                    if save_csv:\n",
    "                        try:\n",
    "                            tem.to_csv(output_path+'/highlight/'+file.replace('.txt','')+'.csv', index=False, header=False)\n",
    "                            original_txt.to_csv(output_path+'/original/'+file.replace('.txt','')+'.csv', index=False)\n",
    "                            combined.to_csv(output_path+'/combined/'+file.replace('.txt','')+'.csv', index=False)\n",
    "                        except:\n",
    "                            print('Problem in file: ', file, 'Skipping...')\n",
    "                            continue\n",
    "\n",
    "    return valid_files, num_sentences_lst"
   ]
  },
  {
   "cell_type": "markdown",
   "metadata": {},
   "source": [
    "average number of hightlight sentences"
   ]
  },
  {
   "cell_type": "code",
   "execution_count": 138,
   "metadata": {},
   "outputs": [
    {
     "data": {
      "text/plain": [
       "12.787321063394684"
      ]
     },
     "execution_count": 138,
     "metadata": {},
     "output_type": "execute_result"
    }
   ],
   "source": [
    "valid_files, num_sentences_lst = filter(0)\n",
    "np.array(num_sentences_lst).mean()"
   ]
  },
  {
   "cell_type": "code",
   "execution_count": 139,
   "metadata": {},
   "outputs": [
    {
     "data": {
      "text/plain": [
       "(array([196.,  79.,  69.,  34.,  32.,  25.,  14.,  10.,   2.,   7.,   5.,\n",
       "          4.,   4.,   3.,   1.,   1.,   0.,   0.,   0.,   0.,   0.,   0.,\n",
       "          0.,   0.,   0.,   0.,   0.,   0.,   1.,   1.,   0.,   0.,   0.,\n",
       "          0.,   0.,   0.,   0.,   0.,   0.,   0.,   0.,   0.,   0.,   0.,\n",
       "          0.,   0.,   0.,   0.,   0.,   1.]),\n",
       " array([  1.  ,   5.38,   9.76,  14.14,  18.52,  22.9 ,  27.28,  31.66,\n",
       "         36.04,  40.42,  44.8 ,  49.18,  53.56,  57.94,  62.32,  66.7 ,\n",
       "         71.08,  75.46,  79.84,  84.22,  88.6 ,  92.98,  97.36, 101.74,\n",
       "        106.12, 110.5 , 114.88, 119.26, 123.64, 128.02, 132.4 , 136.78,\n",
       "        141.16, 145.54, 149.92, 154.3 , 158.68, 163.06, 167.44, 171.82,\n",
       "        176.2 , 180.58, 184.96, 189.34, 193.72, 198.1 , 202.48, 206.86,\n",
       "        211.24, 215.62, 220.  ]),\n",
       " <BarContainer object of 50 artists>)"
      ]
     },
     "execution_count": 139,
     "metadata": {},
     "output_type": "execute_result"
    },
    {
     "data": {
      "image/png": "[encoded data removed]",
      "text/plain": [
       "<Figure size 640x480 with 1 Axes>"
      ]
     },
     "metadata": {},
     "output_type": "display_data"
    }
   ],
   "source": [
    "plt.hist(num_sentences_lst, bins=50)"
   ]
  },
  {
   "cell_type": "markdown",
   "metadata": {},
   "source": [
    "only keep files with hightlight sentences more than average"
   ]
  },
  {
   "cell_type": "code",
   "execution_count": 164,
   "metadata": {},
   "outputs": [],
   "source": [
    "valid_files, num_sentences_lst = filter(13,save_csv=True)"
   ]
  },
  {
   "cell_type": "code",
   "execution_count": 165,
   "metadata": {},
   "outputs": [
    {
     "data": {
      "text/html": [
       "<div>\n",
       "<style scoped>\n",
       "    .dataframe tbody tr th:only-of-type {\n",
       "        vertical-align: middle;\n",
       "    }\n",
       "\n",
       "    .dataframe tbody tr th {\n",
       "        vertical-align: top;\n",
       "    }\n",
       "\n",
       "    .dataframe thead th {\n",
       "        text-align: right;\n",
       "    }\n",
       "</style>\n",
       "<table border=\"1\" class=\"dataframe\">\n",
       "  <thead>\n",
       "    <tr style=\"text-align: right;\">\n",
       "      <th></th>\n",
       "      <th>text</th>\n",
       "      <th>highlighted</th>\n",
       "    </tr>\n",
       "  </thead>\n",
       "  <tbody>\n",
       "    <tr>\n",
       "      <th>0</th>\n",
       "      <td>You are responsible for maintaining the confid...</td>\n",
       "      <td>0</td>\n",
       "    </tr>\n",
       "    <tr>\n",
       "      <th>1</th>\n",
       "      <td>And a link to or such other means of identifyi...</td>\n",
       "      <td>0</td>\n",
       "    </tr>\n",
       "    <tr>\n",
       "      <th>2</th>\n",
       "      <td>You must pay for the service and any applicabl...</td>\n",
       "      <td>0</td>\n",
       "    </tr>\n",
       "    <tr>\n",
       "      <th>3</th>\n",
       "      <td>If your use of the services includes creating ...</td>\n",
       "      <td>1</td>\n",
       "    </tr>\n",
       "    <tr>\n",
       "      <th>4</th>\n",
       "      <td>And only a trained physician or other health c...</td>\n",
       "      <td>0</td>\n",
       "    </tr>\n",
       "    <tr>\n",
       "      <th>5</th>\n",
       "      <td>Agree you have no right to offer anyone else a...</td>\n",
       "      <td>0</td>\n",
       "    </tr>\n",
       "    <tr>\n",
       "      <th>6</th>\n",
       "      <td>The state of the understanding of genetic info...</td>\n",
       "      <td>0</td>\n",
       "    </tr>\n",
       "    <tr>\n",
       "      <th>7</th>\n",
       "      <td>No advice or information, whether oral or writ...</td>\n",
       "      <td>0</td>\n",
       "    </tr>\n",
       "    <tr>\n",
       "      <th>8</th>\n",
       "      <td>You should be aware that, if you are asked by ...</td>\n",
       "      <td>0</td>\n",
       "    </tr>\n",
       "    <tr>\n",
       "      <th>9</th>\n",
       "      <td>You also may be subject to additional terms an...</td>\n",
       "      <td>0</td>\n",
       "    </tr>\n",
       "  </tbody>\n",
       "</table>\n",
       "</div>"
      ],
      "text/plain": [
       "                                                text  highlighted\n",
       "0  You are responsible for maintaining the confid...            0\n",
       "1  And a link to or such other means of identifyi...            0\n",
       "2  You must pay for the service and any applicabl...            0\n",
       "3  If your use of the services includes creating ...            1\n",
       "4  And only a trained physician or other health c...            0\n",
       "5  Agree you have no right to offer anyone else a...            0\n",
       "6  The state of the understanding of genetic info...            0\n",
       "7  No advice or information, whether oral or writ...            0\n",
       "8  You should be aware that, if you are asked by ...            0\n",
       "9  You also may be subject to additional terms an...            0"
      ]
     },
     "execution_count": 165,
     "metadata": {},
     "output_type": "execute_result"
    }
   ],
   "source": [
    "pd.read_csv('Dataset for Text Summary Model/cleaned/more_than_13_sentences/combined/23andMe_Terms of Service.csv').head(10)"
   ]
  }
 ],
 "metadata": {
  "kernelspec": {
   "display_name": "ece1786",
   "language": "python",
   "name": "python3"
  },
  "language_info": {
   "codemirror_mode": {
    "name": "ipython",
    "version": 3
   },
   "file_extension": ".py",
   "mimetype": "text/x-python",
   "name": "python",
   "nbconvert_exporter": "python",
   "pygments_lexer": "ipython3",
   "version": "3.10.13"
  },
  "orig_nbformat": 4
 },
 "nbformat": 4,
 "nbformat_minor": 2
}
