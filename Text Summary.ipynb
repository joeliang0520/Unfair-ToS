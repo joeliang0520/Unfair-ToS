{
 "cells": [
  {
   "cell_type": "code",
   "execution_count": 2,
   "metadata": {},
   "outputs": [],
   "source": [
    "import os\n",
    "import pandas as pd\n",
    "import numpy as np\n",
    "import re\n",
    "import nltk\n",
    "import matplotlib.pyplot as plt\n",
    "import requests\n",
    "import json\n",
    "import csv"
   ]
  },
  {
   "cell_type": "markdown",
   "metadata": {},
   "source": [
    "# Text Summary"
   ]
  },
  {
   "cell_type": "markdown",
   "metadata": {},
   "source": [
    "## Data cleaning"
   ]
  },
  {
   "cell_type": "code",
   "execution_count": 214,
   "metadata": {},
   "outputs": [],
   "source": [
    "path = 'Dataset for Text Summary Model/text_files/text_files_highlight'"
   ]
  },
  {
   "cell_type": "markdown",
   "metadata": {},
   "source": [
    "helper function to clean the raw sentences in tos, including NLTK sentence detector, removing html tags, special characters, lower casing, and others"
   ]
  },
  {
   "cell_type": "code",
   "execution_count": 388,
   "metadata": {},
   "outputs": [],
   "source": [
    "def clean(content):\n",
    "    #split the content of the file\n",
    "    tokenizer = nltk.data.load('tokenizers/punkt/english.pickle')\n",
    "    content = tokenizer.tokenize(content)\n",
    "    # #add space before linebreaker\n",
    "    content = [x.replace('\\n', ' ').replace('e.g. ','e.g.') for x in content]\n",
    "    content = [re.sub(r'[^\\x00-\\x7F]+|&nbsp',' ', x) for x in content]\n",
    "    #replace digit.digit.digit with space\n",
    "    content = [re.sub('\\d+\\.\\d+\\.\\d+', ' ', x) for x in content]\n",
    "    content = [re.sub('\\d+\\.\\d+', ' ', x) for x in content]\n",
    "    # #remove html tags\n",
    "    content = [re.sub('<[^<]+?>', '', x) for x in content]\n",
    "    content = [re.sub('[<;>]+', '', x) for x in content]\n",
    "    # remove quotation marks\n",
    "    content = [re.sub('\\\"|\\'', '', x) for x in content]\n",
    "    # split row into several rows by .\n",
    "    content = [x.split('. ') for x in content]\n",
    "    # #flatten the list\n",
    "    content = [item for sublist in content for item in sublist]\n",
    "    # #remove extra space\n",
    "    content = [re.sub(' +', ' ', x) for x in content]\n",
    "    content = [x.strip() for x in content]\n",
    "    content = [x for x in content if x != '' and x != '.']\n",
    "    content = [x.lower() for x in content]\n",
    "    #remove less than 3 words\n",
    "    content = [x for x in content if len(x.split()) > 5]\n",
    "    # #replace'â\\x80\\x99' with '\n",
    "    # #drop duplicate\n",
    "    #remove any character that is not in string.printable\n",
    "    content = set(content)\n",
    "    return content       "
   ]
  },
  {
   "cell_type": "markdown",
   "metadata": {},
   "source": [
    "input the upper of lower ranges of hightlighted sentences in a docs that will be processed for cleaning"
   ]
  },
  {
   "cell_type": "code",
   "execution_count": 472,
   "metadata": {},
   "outputs": [],
   "source": [
    "def filter(constraint,upper_constraint,save_csv=False):\n",
    "    if not os.path.exists('Dataset for Text Summary Model/cleaned'):\n",
    "            os.makedirs('Dataset for Text Summary Model/cleaned')\n",
    "    output_path = 'Dataset for Text Summary Model/cleaned/more_than_'+str(constraint)+'_sentences'\n",
    "    #create or reset the output folder\n",
    "    if save_csv:\n",
    "        #create the output folder if not exist\n",
    "        if not os.path.exists(output_path+'/highlight'):\n",
    "            os.makedirs(output_path+'/highlight')\n",
    "        else:\n",
    "            #remove all the files in the folder\n",
    "            files = os.listdir(output_path+'/highlight')\n",
    "            for file in files:\n",
    "                os.remove(output_path+'/highlight/'+file)\n",
    "        \n",
    "        if not os.path.exists(output_path+'/original'):\n",
    "            os.makedirs(output_path+'/original')\n",
    "        else:\n",
    "            files = os.listdir(output_path+'/original')\n",
    "            for file in files:\n",
    "                os.remove(output_path+'/original/'+file)\n",
    "        \n",
    "        if not os.path.exists(output_path+'/combined'):\n",
    "            os.makedirs(output_path+'/combined')\n",
    "        else:\n",
    "            files = os.listdir(output_path+'/combined')\n",
    "            for file in files:\n",
    "                os.remove(output_path+'/combined/'+file)\n",
    "                \n",
    "    files = os.listdir(path)\n",
    "    files = [x for x in files if x != '.DS_.txt']\n",
    "\n",
    "    valid_files = []\n",
    "    num_sentences_lst = []\n",
    "    for file in files:\n",
    "        #open the file\n",
    "        with open(path+'/'+file, 'r',encoding=\"utf8\") as f:\n",
    "            #read the highlighted sentences\n",
    "            content = f.read()\n",
    "            #clean the highlighted sentences\n",
    "            content = clean(content)\n",
    "            #count the number of sentences\n",
    "            num_sentences = len(content)\n",
    "            num_sentences_lst.append(num_sentences)\n",
    "            #if the number of sentence larger than the constraint\n",
    "            if num_sentences > constraint and num_sentences < upper_constraint:\n",
    "                valid_files.append(file)\n",
    "                #save cleaned sentences to csv\n",
    "                tem = pd.DataFrame(content, columns=['0'])\n",
    "                #open original text\n",
    "                with open('Dataset for Text Summary Model/text_files/text_files_raw'+'/'+file, 'r',encoding=\"utf8\") as original:\n",
    "                    original_txt = original.read()\n",
    "                    #clean the original text and save to dataframe\n",
    "                    original_txt = pd.DataFrame({'text':list(clean(original_txt))})\n",
    "                    #create the combined dataframe\n",
    "                    combined = original_txt.copy()\n",
    "                    combined['highlighted'] = 0\n",
    "                    #if the sentence is in the highlighted sentences, set highlighted to 1\n",
    "                    for index_c,hightlighted in tem.iterrows():\n",
    "                        not_found = True\n",
    "                        for index, row in combined.iterrows():\n",
    "                            if row['text'] in hightlighted[0] or hightlighted[0] in row['text']:\n",
    "                                combined.loc[index,'highlighted'] = 1\n",
    "                                tem.loc[index_c,'0'] = row['text']\n",
    "                                not_found = False\n",
    "                        if not_found:\n",
    "                            tem.drop(index_c, inplace=True)\n",
    "\n",
    "\n",
    "                    if save_csv:\n",
    "                        try:\n",
    "                            tem.drop_duplicates(inplace=True)\n",
    "                            tem.to_csv(output_path+'/highlight/'+file.replace('.txt','')+'.csv', index=False, header=False)\n",
    "                            original_txt.to_csv(output_path+'/original/'+file.replace('.txt','')+'.csv', index=False)\n",
    "                            combined.to_csv(output_path+'/combined/'+file.replace('.txt','')+'.csv', index=False)\n",
    "                        except:\n",
    "                            print('Problem in file: ', file, 'Skipping...')\n",
    "                            continue\n",
    "\n",
    "    return valid_files, num_sentences_lst"
   ]
  },
  {
   "cell_type": "markdown",
   "metadata": {},
   "source": [
    "average number of hightlight sentences"
   ]
  },
  {
   "cell_type": "code",
   "execution_count": null,
   "metadata": {},
   "outputs": [],
   "source": [
    "nltk.download('punkt')\n",
    "valid_files, num_sentences_lst = filter(0)\n",
    "np.array(num_sentences_lst).mean()"
   ]
  },
  {
   "cell_type": "code",
   "execution_count": 470,
   "metadata": {},
   "outputs": [
    {
     "data": {
      "image/png": "[encoded data removed]",
      "text/plain": [
       "<Figure size 640x480 with 1 Axes>"
      ]
     },
     "metadata": {},
     "output_type": "display_data"
    }
   ],
   "source": [
    "plt.boxplot(num_sentences_lst)\n",
    "plt.title('Number of sentences in each file')\n",
    "plt.xlabel('Number of sentences')\n",
    "plt.ylabel('Number of files')\n",
    "plt.show()"
   ]
  },
  {
   "cell_type": "markdown",
   "metadata": {},
   "source": [
    "only keep files with hightlight sentences around 40-50 to avoid infessible gpt-4 output"
   ]
  },
  {
   "cell_type": "code",
   "execution_count": 473,
   "metadata": {},
   "outputs": [],
   "source": [
    "constraint = 40\n",
    "upper_constraint = 50\n",
    "#40 - 50 sentences, clean the data and save to csv\n",
    "valid_files, num_sentences_lst = filter(constraint,upper_constraint,save_csv=True)"
   ]
  },
  {
   "cell_type": "markdown",
   "metadata": {},
   "source": [
    "total number of ToS that matched the constraint"
   ]
  },
  {
   "cell_type": "code",
   "execution_count": 474,
   "metadata": {},
   "outputs": [
    {
     "data": {
      "text/plain": [
       "11"
      ]
     },
     "execution_count": 474,
     "metadata": {},
     "output_type": "execute_result"
    }
   ],
   "source": [
    "len(valid_files)"
   ]
  },
  {
   "cell_type": "markdown",
   "metadata": {},
   "source": [
    "Some example"
   ]
  },
  {
   "cell_type": "code",
   "execution_count": 221,
   "metadata": {},
   "outputs": [
    {
     "data": {
      "text/html": [
       "<div>\n",
       "<style scoped>\n",
       "    .dataframe tbody tr th:only-of-type {\n",
       "        vertical-align: middle;\n",
       "    }\n",
       "\n",
       "    .dataframe tbody tr th {\n",
       "        vertical-align: top;\n",
       "    }\n",
       "\n",
       "    .dataframe thead th {\n",
       "        text-align: right;\n",
       "    }\n",
       "</style>\n",
       "<table border=\"1\" class=\"dataframe\">\n",
       "  <thead>\n",
       "    <tr style=\"text-align: right;\">\n",
       "      <th></th>\n",
       "      <th>text</th>\n",
       "      <th>highlighted</th>\n",
       "    </tr>\n",
       "  </thead>\n",
       "  <tbody>\n",
       "    <tr>\n",
       "      <th>0</th>\n",
       "      <td>Your estimated delivery date for your sample c...</td>\n",
       "      <td>0</td>\n",
       "    </tr>\n",
       "    <tr>\n",
       "      <th>1</th>\n",
       "      <td>You are solely responsible for paying such fees.</td>\n",
       "      <td>0</td>\n",
       "    </tr>\n",
       "    <tr>\n",
       "      <th>2</th>\n",
       "      <td>Official notices related to this tos must be s...</td>\n",
       "      <td>0</td>\n",
       "    </tr>\n",
       "    <tr>\n",
       "      <th>3</th>\n",
       "      <td>If you change your mind about your order, you ...</td>\n",
       "      <td>0</td>\n",
       "    </tr>\n",
       "    <tr>\n",
       "      <th>4</th>\n",
       "      <td>23andme's proprietary rights you acknowledge a...</td>\n",
       "      <td>0</td>\n",
       "    </tr>\n",
       "  </tbody>\n",
       "</table>\n",
       "</div>"
      ],
      "text/plain": [
       "                                                text  highlighted\n",
       "0  Your estimated delivery date for your sample c...            0\n",
       "1   You are solely responsible for paying such fees.            0\n",
       "2  Official notices related to this tos must be s...            0\n",
       "3  If you change your mind about your order, you ...            0\n",
       "4  23andme's proprietary rights you acknowledge a...            0"
      ]
     },
     "execution_count": 221,
     "metadata": {},
     "output_type": "execute_result"
    }
   ],
   "source": [
    "twothreeandmee = pd.read_csv('Dataset for Text Summary Model/cleaned/more_than_13_sentences/combined/23andMe_Terms of Service.csv')\n",
    "twothreeandmee.head()"
   ]
  },
  {
   "cell_type": "markdown",
   "metadata": {},
   "source": [
    "overall data"
   ]
  },
  {
   "cell_type": "code",
   "execution_count": 222,
   "metadata": {},
   "outputs": [
    {
     "data": {
      "text/plain": [
       "(16318, 2)"
      ]
     },
     "execution_count": 222,
     "metadata": {},
     "output_type": "execute_result"
    }
   ],
   "source": [
    "files = os.listdir(f'Dataset for Text Summary Model/cleaned/more_than_'+str(constraint)+'_sentences'+'/combined/')\n",
    "data = pd.read_csv(f'Dataset for Text Summary Model/cleaned/more_than_'+str(constraint)+'_sentences'+'/combined/'+files[0])\n",
    "for file in files[1:]:\n",
    "    df = pd.read_csv(f'Dataset for Text Summary Model/cleaned/more_than_'+str(constraint)+'_sentences'+'/combined/'+file)\n",
    "    # add df to data dataframe\n",
    "    data = pd.concat([data,df])\n",
    "data.shape"
   ]
  },
  {
   "cell_type": "markdown",
   "metadata": {},
   "source": [
    "16318 sentences in total, with 1678 highlighted, 14640 not highlight"
   ]
  },
  {
   "cell_type": "code",
   "execution_count": 27,
   "metadata": {},
   "outputs": [
    {
     "data": {
      "text/plain": [
       "highlighted\n",
       "0    14640\n",
       "1     1678\n",
       "Name: count, dtype: int64"
      ]
     },
     "execution_count": 27,
     "metadata": {},
     "output_type": "execute_result"
    }
   ],
   "source": [
    "data['highlighted'].value_counts()"
   ]
  },
  {
   "cell_type": "markdown",
   "metadata": {},
   "source": [
    "# The Text Summarization Model"
   ]
  },
  {
   "cell_type": "markdown",
   "metadata": {},
   "source": [
    "import the requried package from open ai api"
   ]
  },
  {
   "cell_type": "code",
   "execution_count": 609,
   "metadata": {},
   "outputs": [],
   "source": [
    "import openai\n",
    "import csv\n",
    "from summa import summarizer"
   ]
  },
  {
   "cell_type": "markdown",
   "metadata": {},
   "source": [
    "input your open ai API key for GPT-4 model in the code block below if its not stored in enviorment"
   ]
  },
  {
   "cell_type": "code",
   "execution_count": null,
   "metadata": {},
   "outputs": [],
   "source": [
    "OPENAI_API_KEY = os.getenv(\"OPENAI_API_KEY\")"
   ]
  },
  {
   "cell_type": "code",
   "execution_count": 322,
   "metadata": {},
   "outputs": [],
   "source": [
    "# Define paths for datasets and the new directory to store result CSVs\n",
    "constraint = 40  #set to maximum constraint of hightlighted sentences as desired, in this case 40\n",
    "base_dir = 'Dataset for Text Summary Model/cleaned'\n",
    "input_dir = os.path.join(base_dir, f'more_than_{constraint}_sentences/original')\n",
    "output_dir = os.path.join(base_dir, f'more_than_{constraint}_sentences/model_results')\n",
    "\n",
    "# Make sure the output directory exists\n",
    "if not os.path.exists(output_dir):\n",
    "    os.makedirs(output_dir)"
   ]
  },
  {
   "cell_type": "markdown",
   "metadata": {},
   "source": [
    "the final prompt for text hightlight and simplification model"
   ]
  },
  {
   "cell_type": "code",
   "execution_count": 739,
   "metadata": {},
   "outputs": [],
   "source": [
    "# The system prompt for the OpenAI model\n",
    "system_prompt = \"\"\"\n",
    "---\n",
    "### Detail Instruction: ###\n",
    "Using the content in the 'term of service document' given below, and accomplish the following two tasks:\n",
    "**Hightlight:** Hightlight max 50 indexes that is most important for users to carefully read before accept the term, using the 'definition of important' given below. you can also use your own knowledge to identify 'important' within the Terms of Service documents. Keep a good balance between precision and recall. Obtain the index of highlighted sentences (which line in the document)\n",
    "**Simplification:** For each hightlighted sentence, based on the document's content, craft a plain-language simplification that is easily understandable for a general audience. Aim for a Gunning Fog index below 9.\n",
    "Please provide the output in a text file format with 'Highlight' and 'Simplification' as header (first line). And Each line contains the \"index\" and its corresponding \"Simplification\" enclosed in quotation marks, and seperated them by a comma.\n",
    "---\n",
    "### Steps ###\n",
    "think step by step,\n",
    "1. who is the service provider? who are its users population?\n",
    "2. what should be consider as important sentence for user to read? using the definition given below\n",
    "3. How can you quantify the importance of a sentence using this definition?\n",
    "4. What are the 50 most important sentences?\n",
    "---\n",
    "### Definition of Important###\n",
    "A sentence is important if it relates to one or more of the following 57 practices:\n",
    "1. **Retention of User-Generated Content**: Keeping user content even after the user closes their account.\n",
    "2. **User Tracking**: Monitoring users on other websites.\n",
    "3. **Broad Rights Retention**: Retaining rights to user content even after they stop using their account.\n",
    "4. **Excessive Copyright Claims**: Maintaining copyright over user data/content beyond necessary limits.\n",
    "5. **Unauthorized Credit Taking**: Taking credit for user-generated content.\n",
    "6. **Limited Liability**: Restricting liability to fees paid by the user.\n",
    "7. **Content Licensing to Third Parties**: Licensing user content to external entities.\n",
    "8. **Third-Party Advertising**: Using user data for targeted third-party advertising.\n",
    "9. **Cookie Usage**: Implementing third-party cookies despite opt-out instructions.\n",
    "10. **Account Deletion Without Notice**: Deleting user accounts without notice or explanation.\n",
    "11. **Username Rejection/Change**: Rejecting or changing usernames arbitrarily.\n",
    "12. **Involvement of Third Parties**: Engaging third parties in service operations.\n",
    "13. **Ownership of User Ideas**: Claiming ownership of ideas suggested by users.\n",
    "14. **No Liability for Unauthorized Access**: Assuming no liability for unauthorized access to user information.\n",
    "15. **Software Error Negligence**: Not correcting software errors.\n",
    "16. **Tracking Pixels in Communication**: Using tracking pixels in service-to-user communication.\n",
    "17. **Extended Data Retention for Analytics**: Keeping anonymized user data beyond retention periods for analytical purposes.\n",
    "18. **Cross-Product Profile Combination**: Combining user profiles across different products.\n",
    "19. **Marketing Use of Personal Data**: Using personal data for marketing purposes.\n",
    "20. **Unlicensed Software Disabling**: Disabling unlicensed software.\n",
    "21. **Fines for TOS Violations**: Imposing fines for Terms of Service violations.\n",
    "22. **Referring Web Page Tracking**: Tracking users based on referring web pages.\n",
    "23. **Binding Arbitration Requirement**: Forcing users into binding arbitration for dispute resolution.\n",
    "24. **Diverse Personal Data Collection**: Collecting various types of personal data.\n",
    "25. **Social Media Tracking**: Tracking users via social media cookies/pixels.\n",
    "26. **Third-Party Information Gathering**: Gathering user information through third parties.\n",
    "27. **Passive Data Storage**: Storing data on users without their interaction.\n",
    "28. **Precise Location Collection**: Receiving precise location data through GPS.\n",
    "29. **Biometric Data Collection**: Collecting biometric data.\n",
    "30. **Personal Data Selling/Usage**: Selling or using personal data for various purposes.\n",
    "31. **Terms Change Without Notice**: Changing terms at discretion without notifying users.\n",
    "32. **Global Data Processing/Storage**: Processing and storing data globally.\n",
    "33. **Reduced Legal Action Window**: Imposing a shortened time period for legal action.\n",
    "34. **Opt-Out Ineffectiveness**: Tracking users despite their opting out.\n",
    "35. **Deleted Content Retention**: Retaining deleted content.\n",
    "36. **Unexplained Content Deletion**: Deleting specific content without providing reasons.\n",
    "37. **Sensitive Data for Advertising**: Collecting sensitive data for targeted advertising.\n",
    "38. **Browsing History Access**: Viewing user browsing history.\n",
    "39. **Content Blocking/Censorship**: Blocking or censoring user-generated content for any reason.\n",
    "40. **Limited Operating Jurisdiction**: Operating only in government-approved countries.\n",
    "41. **Unencrypted Traffic**: Having unencrypted communication.\n",
    "42. **Government Request Compliance**: Disclosing personal data to comply with government requests without notice.\n",
    "43. **Identifiable Information Checks**: Verifying provided identifiable information.\n",
    "44. **Private Message Reading**: Reading private user messages.\n",
    "45. **Price/Fee Changes Without Notice**: Changing prices and fees without notifying users.\n",
    "46. **Indefinite Log Keeping**: Keeping logs for an undefined period.\n",
    "47. **Retroactive Policy Changes**: Applying policy changes retroactively.\n",
    "48. **AI Training/Decision-Making with Personal Data**: Using personal data for decision-making, profiling, or AI training.\n",
    "49. **Assumed Consent from Usage**: Assuming user consent to term changes through usage.\n",
    "50. **Promotional Communication Difficulty**: Making it hard for users to opt out of promotional communications.\n",
    "51. **Name Requirement Enforcement**: Refusing pseudonyms and insisting on legal names.\n",
    "52. **Personal Data Accessibility Challenges**: Making it inconvenient for users to obtain their personal data.\n",
    "53. **Interference Prevention**: Preventing interference with others' enjoyment of the service.\n",
    "54. **Negative Opinion Disallowance**: Disallowing negative opinions about the service.\n",
    "55. **Value-Advocacy Restrictions**: Prohibiting discussions against government-advocated values.\n",
    "56. **Content Removal/Editing Restrictions**: Restricting the removal or editing of user-generated content.\n",
    "57. **Implied Waivers of Rights**: Implying user waivers of moral rights and the right to a class action.\n",
    "---\n",
    "### Output Format ###\n",
    "Highlight,Summary\n",
    "\"index\",\"Simplification 1\"\n",
    "\"index\",\"Simplification 2\"\n",
    "...\n",
    "\"index\",\"Simplification 50\"\n",
    "---\n",
    "### Additional requirements ###\n",
    "1. The output should only contains the format listed above, turn off any warning or error message. \n",
    "2. If the text is too long, please only the most important part of the text.\n",
    "3. Please use any tools or knowledges to help you complete the task\n",
    "4. cleaned the 'simplification' to the requried output format.\n",
    "---\n",
    "\"\"\""
   ]
  },
  {
   "cell_type": "markdown",
   "metadata": {},
   "source": [
    "feed the prompt into the gpt-4-turbo-preview model"
   ]
  },
  {
   "cell_type": "code",
   "execution_count": null,
   "metadata": {},
   "outputs": [],
   "source": [
    "\n",
    "# Loop through all CSV files in the input directory\n",
    "def process_csv(csv_file_name):\n",
    "    csv_file_path = os.path.join(input_dir, csv_file_name)\n",
    "    # Read the CSV file into a DataFrame\n",
    "    df = pd.read_csv(csv_file_path)\n",
    "    \n",
    "    # Join all text entries into one large string to feed into the model\n",
    "    #add service provider and term of service document\n",
    "    text_to_summarize = '\\n --- \\n ### service provider ###'+csv_file_name.split('_')[0]+'\\n ### term of service document ### \\n'\n",
    "    for index,text in df.iterrows():\n",
    "        text_to_summarize +='index'+str(index) + ': ' + text['text'] + '\\n'\n",
    "        \n",
    "    text_to_summarize += \"--- END OF DOCUMENT ---\"\n",
    "\n",
    "    # Headers for the POST request\n",
    "    headers = {\n",
    "        'Content-Type': 'application/json',\n",
    "        'Authorization': f'Bearer {OPENAI_API_KEY}'\n",
    "    }\n",
    "\n",
    "    # Data payload for the POST request\n",
    "    data = {\n",
    "        'model': 'gpt-4-1106-preview',\n",
    "        'messages': [\n",
    "            {\"role\": \"system\", \"content\": 'You are a helpfull assistant.'},\n",
    "            {\"role\": \"user\", \"content\": system_prompt + text_to_summarize}\n",
    "        ],\n",
    "    }\n",
    "\n",
    "    # URL for the OpenAI API chat completions endpoint\n",
    "    url = 'https://api.openai.com/v1/chat/completions'\n",
    "\n",
    "    # Make the POST request to the OpenAI API\n",
    "    response = requests.post(url, headers=headers, data=json.dumps(data))\n",
    "\n",
    "    # Check if the request was successful\n",
    "    if response.status_code == 200:\n",
    "        # Extract and format the completion output\n",
    "        response_data = response.json()\n",
    "        generated_output = response_data['choices'][0]['message']['content']\n",
    "         #save generated output as csv\n",
    "        # with open('Dataset for Text Summary Model/cleaned/more_than_20_sentences/model_results/'+csv_file_name.replace('.csv','')+'_generated_output.csv', 'w',encoding=\"utf8\") as f:\n",
    "        #     f.write(generated_output)\n",
    "        # parsed_output = [(part.split('\\n')[0].replace('Highlight: ', '').strip(), \n",
    "        #                   part.split('\\n')[1].replace('Summary: ', '').strip())\n",
    "        #                  for part in output_lines if len(part.split('\\n')) == 2]\n",
    "\n",
    "        # Write the summaries to a new CSV file in the output directory\n",
    "        baseline = summarizer.summarize(text_to_summarize)\n",
    "        baseline_df = pd.DataFrame([baseline.split('\\n')]).T\n",
    "        baseline_df.to_csv(os.path.join(output_dir, csv_file_name.replace('.csv', '_baseline.csv')), index=False)\n",
    "        output_csv_path = os.path.join(output_dir, csv_file_name.replace('.csv', '_summary.csv'))\n",
    "        # with open(output_csv_path, 'w', newline='', encoding='utf-8') as csv_file:\n",
    "        with open(output_csv_path, 'w', newline='', encoding='utf-8') as csv_file:\n",
    "            csv_file.write(generated_output)\n",
    "            # writer = csv.writer(csv_file)\n",
    "            # writer.writerow(['Highlighted Clause', 'Plain Language Summary'])\n",
    "            # writer.writerows(parsed_output)\n",
    "            \n",
    "        print(f\"Processed CSV: {csv_file_name}\")\n",
    "    else:\n",
    "        print(f\"Failed to get a response from the OpenAI API. Status code: {response.status_code}, Response: {response.text}\")\n",
    "    return text_to_summarize"
   ]
  },
  {
   "cell_type": "markdown",
   "metadata": {},
   "source": [
    "Loop through inputs docs, feed into gpt4, and save the outout to out_dic"
   ]
  },
  {
   "cell_type": "code",
   "execution_count": 740,
   "metadata": {
    "scrolled": true
   },
   "outputs": [
    {
     "name": "stdout",
     "output_type": "stream",
     "text": [
      "Processed CSV: Pinterest_Terms of Service.csv\n",
      "Processed CSV: LBRY_Terms of Service.csv\n",
      "Processed CSV: Tumblr_Terms of Service.csv\n",
      "Processed CSV: IDrive_Terms of Service.csv\n",
      "Processed CSV: Crunchyroll_Terms of Service.csv\n",
      "Processed CSV: Pure Dating_Terms of Service.csv\n",
      "Processed CSV: HuffPost_Terms of Service.csv\n",
      "Processed CSV: Google_Terms of Service.csv\n",
      "Processed CSV: Goodreads_Terms of Service.csv\n",
      "Processed CSV: FileFactory_Terms of Service.csv\n",
      "All CSV files have been processed and the results are saved in Dataset for Text Summary Model/cleaned/more_than_40_sentences/model_results\n"
     ]
    }
   ],
   "source": [
    "# Iterate over CSV files in the directory and process each with GPT-4\n",
    "num_docs = 0\n",
    "#set the number of files to process, we frist used 5 docs for prompt engineering, and used 10 docs for the evluation\n",
    "holds = 10\n",
    "files = os.listdir(output_dir)\n",
    "for file in files:\n",
    "    os.remove(output_dir+'/'+file)\n",
    "for csv_file_name in os.listdir(input_dir):\n",
    "    if (num_docs < holds) and csv_file_name.endswith('.csv'):  # Process only CSV files\n",
    "        text = process_csv(csv_file_name)\n",
    "        num_docs += 1\n",
    "\n",
    "print(f\"All CSV files have been processed and the results are saved in {output_dir}\")"
   ]
  },
  {
   "cell_type": "markdown",
   "metadata": {},
   "source": [
    "output of all ToS is now created from GPT-4 model and stored into the output location. We will used them to evaluation with the ground truth ('hightlight' column in 'orginal')"
   ]
  },
  {
   "cell_type": "markdown",
   "metadata": {},
   "source": [
    "# Evaluation of Highlighting Function "
   ]
  },
  {
   "cell_type": "code",
   "execution_count": null,
   "metadata": {},
   "outputs": [],
   "source": [
    "from sklearn.metrics import confusion_matrix, precision_score, recall_score, f1_score\n",
    "from sklearn.metrics.pairwise import cosine_similarity\n",
    "from sentence_transformers import SentenceTransformer"
   ]
  },
  {
   "cell_type": "code",
   "execution_count": 756,
   "metadata": {},
   "outputs": [
    {
     "name": "stdout",
     "output_type": "stream",
     "text": [
      "Processing LBRY_Terms of Service_summary.csv...\n",
      "Processing Google_Terms of Service_summary.csv...\n",
      "Processing Crunchyroll_Terms of Service_summary.csv...\n",
      "Processing Pure Dating_Terms of Service_summary.csv...\n",
      "Processing IDrive_Terms of Service_summary.csv...\n",
      "Processing FileFactory_Terms of Service_summary.csv...\n",
      "Processing Pinterest_Terms of Service_summary.csv...\n",
      "Processing Goodreads_Terms of Service_summary.csv...\n",
      "Processing HuffPost_Terms of Service_summary.csv...\n",
      "Processing Tumblr_Terms of Service_summary.csv...\n",
      "LLMs Precision: 0.43289305771630887 Baseline Precision: 0.3904402923535385\n",
      "LLMs Recall: 0.6426770487064604 Baseline Recall: 0.3396916195677806\n",
      "F1 Score: 0.5120393486071904 Baseline F1 Score: 0.3538497694962238\n"
     ]
    }
   ],
   "source": [
    "# create the word embedding model to compare the similiarity between sentences to avoid mismatch due to small difference when using exact match\n",
    "model = SentenceTransformer('sentence-transformers/all-mpnet-base-v2')\n",
    "\n",
    "#helper parameter to count number of docs processed\n",
    "num_docs = 0\n",
    "\n",
    "# Paths to the directories containing the actual and predicted CSV files\n",
    "actual_dir = f'Dataset for Text Summary Model/cleaned/more_than_{constraint}_sentences/combined'\n",
    "predicted_dir = f'Dataset for Text Summary Model/cleaned/more_than_{constraint}_sentences/model_results'\n",
    "not_matched  = []\n",
    "\n",
    "# Lists of score\n",
    "avg_p = []\n",
    "avg_r = []\n",
    "avg_f1 = []\n",
    "#for baseline text rank model\n",
    "avg_p_baseline = []\n",
    "avg_r_baseline = []\n",
    "avg_f1_baseline = []\n",
    "\n",
    "# Function to check if either the predicted sentence is in any of the actual sentences, or vice versa using the similarity score\n",
    "def is_match(predicted_sentence,actual_sentence_embeddings):\n",
    "    predicted_sentence_embeddings = model.encode([predicted_sentence])\n",
    "    for i in range(len(actual_sentence_embeddings)):\n",
    "        cos_sim = cosine_similarity([predicted_sentence_embeddings[0]], [actual_sentence_embeddings[i]])[0][0]\n",
    "        #set the threshold of cosine similarity to 0.7\n",
    "        if cos_sim > 0.7:\n",
    "            return True,i\n",
    "    return False,None\n",
    "\n",
    "# Loop over the actual labeled CSV files\n",
    "for predicted_file in os.listdir(predicted_dir):\n",
    "    if predicted_file.endswith('_summary.csv'):\n",
    "        # store the list of matched and not matched sentences for debugging and prompt engineering\n",
    "        matched = []\n",
    "        predicted = []\n",
    "        match_baseline = []\n",
    "\n",
    "        #print the current file name\n",
    "        print(f'Processing {predicted_file}...')\n",
    "\n",
    "        #get the file name that containing the ground truth highlighted sentences\n",
    "        actual_file = predicted_file.replace('_summary', '')\n",
    "        actual_path = os.path.join(actual_dir, actual_file)\n",
    "        actual_df = pd.read_csv(actual_path,encoding=\"utf8\")\n",
    "        #obtain the hightlighted sentences\n",
    "        hightlighted = actual_df[actual_df['highlighted']==1]\n",
    "\n",
    "        try:\n",
    "            #get the output from gpt-4 and baseline model\n",
    "            predicted_path = os.path.join(predicted_dir, predicted_file)\n",
    "            predicted_df = pd.read_csv(predicted_path,encoding=\"utf8\")\n",
    "            baseline_df = pd.read_csv(predicted_path.replace('_summary', '_baseline'),encoding=\"utf8\")\n",
    "\n",
    "            #get the highlighted sentences from the baseline model\n",
    "            baseline_sentences = baseline_df.iloc[:, 0].tolist()\n",
    "            #get index from gpt-4 output (we used index as output in gpt-4 to reduce output token, but required to match them back with original sentences)\n",
    "            predicted_sentences = [actual_df.iloc[int(re.sub(r'[^\\d]+', '', i)),0] for i in predicted_df['Highlight']]\n",
    "\n",
    "            #store the original sentences of output from gpt-4 after matching with the index for text classification model\n",
    "            hightlight_summary = predicted_df.copy()\n",
    "            hightlight_summary['Highlight'] = predicted_sentences\n",
    "            hightlight_summary.to_csv(predicted_path.replace('_summary', '_original_sentences'), index=False)\n",
    "\n",
    "            #created word embedding for both gpt-4 output and baseline sentences to match with cosine similarity\n",
    "            predicted_sentences_embeddings = model.encode(predicted_sentences)\n",
    "            baseline_sentences_embeddings = model.encode(baseline_sentences)\n",
    "\n",
    "            #check wether the grouth truth highlighted sentences are in the output from gpt-4 and baseline model\n",
    "            for index, row in hightlighted.iterrows():\n",
    "                result, index_result = is_match(row['text'],predicted_sentences_embeddings)\n",
    "                result_baseline, index_result_baseline = is_match(row['text'],baseline_sentences_embeddings)\n",
    "                #if in the output from gpt-4, store the matched sentences\n",
    "                if result:\n",
    "                    matched.append(row['text'])\n",
    "                    predicted.append(predicted_sentences[index_result])\n",
    "                else:\n",
    "                    #append to not matched list for debugging (tune the cosine similiary threshold)\n",
    "                    not_matched.append(row['text'])\n",
    "\n",
    "                #if in the output from baseline model, store the matched sentences\n",
    "                if result_baseline:\n",
    "                    match_baseline.append(baseline_sentences[index_result_baseline])\n",
    "\n",
    "            #calculate the precision, recall and f1 score for both gpt-4 and baseline model\n",
    "            precsion = len(matched)/len(predicted_sentences)\n",
    "            precsion_baseline = len(match_baseline)/len(baseline_sentences)\n",
    "            recall = len(matched)/hightlighted.shape[0]\n",
    "            recall_baseline = len(match_baseline)/hightlighted.shape[0]\n",
    "            f1 = 2*(precsion*recall)/(precsion+recall)\n",
    "            f1_baseline = 2*(precsion_baseline*recall_baseline)/(precsion_baseline+recall_baseline)\n",
    "\n",
    "            #store the not matched sentences into a csv for human judges to check whether are important sentences in gpt-4 output\n",
    "            not_predicted = [x for x in predicted_sentences if x not in predicted]\n",
    "            not_predicted_df = pd.DataFrame(not_predicted, columns=['0'])\n",
    "            not_predicted_df.to_csv('Dataset for Text Summary Model/cleaned/more_than_40_sentences/model_results/'+predicted_file.replace('.csv','')+'_not_predicted.csv', index=False, header=False)\n",
    "\n",
    "            #find the average score for all files\n",
    "            avg_p.append(precsion)\n",
    "            avg_r.append(recall)\n",
    "            avg_f1.append(f1)\n",
    "\n",
    "            avg_p_baseline.append(precsion_baseline)\n",
    "            avg_r_baseline.append(recall_baseline)\n",
    "            avg_f1_baseline.append(f1_baseline)\n",
    "\n",
    "        except Exception as e:\n",
    "            print('Problem in file: ', predicted_file, 'Skipping...')\n",
    "            print(e)\n",
    "            continue\n",
    "#printing the average score for all files\n",
    "print(f'LLMs Precision: {np.mean(avg_p)} Baseline Precision: {np.mean(avg_p_baseline)}')\n",
    "print(f'LLMs Recall: {np.mean(avg_r)} Baseline Recall: {np.mean(avg_r_baseline)}')\n",
    "print(f'F1 Score: {np.mean(avg_f1)} Baseline F1 Score: {np.mean(avg_f1_baseline)}')\n"
   ]
  },
  {
   "cell_type": "markdown",
   "metadata": {},
   "source": [
    "basedline f1 for all files"
   ]
  },
  {
   "cell_type": "code",
   "execution_count": 754,
   "metadata": {},
   "outputs": [
    {
     "data": {
      "text/plain": [
       "[0.19999999999999998,\n",
       " 0.2962962962962963,\n",
       " 0.4155844155844156,\n",
       " 0.29850746268656714,\n",
       " 0.21176470588235297,\n",
       " 0.380952380952381,\n",
       " 0.5079365079365079,\n",
       " 0.5245901639344263,\n",
       " 0.2156862745098039,\n",
       " 0.48717948717948717]"
      ]
     },
     "execution_count": 754,
     "metadata": {},
     "output_type": "execute_result"
    }
   ],
   "source": [
    "avg_f1_baseline"
   ]
  },
  {
   "cell_type": "markdown",
   "metadata": {},
   "source": [
    "# Evaluation of Simplification Function"
   ]
  },
  {
   "cell_type": "code",
   "execution_count": 751,
   "metadata": {},
   "outputs": [
    {
     "name": "stdout",
     "output_type": "stream",
     "text": [
      "Processing LBRY_Terms of Service_summary.csv...\n",
      "Processing Google_Terms of Service_summary.csv...\n",
      "Processing Crunchyroll_Terms of Service_summary.csv...\n",
      "Processing Pure Dating_Terms of Service_summary.csv...\n",
      "Processing IDrive_Terms of Service_summary.csv...\n",
      "Processing FileFactory_Terms of Service_summary.csv...\n",
      "Processing Pinterest_Terms of Service_summary.csv...\n",
      "Processing Goodreads_Terms of Service_summary.csv...\n",
      "Processing HuffPost_Terms of Service_summary.csv...\n",
      "Processing Tumblr_Terms of Service_summary.csv...\n",
      "----------------------------------\n",
      "The original sentences readability: [19.683446288512375, 36.45683901004655, 22.577185360716168, 19.727058527915677, 16.57536130536131, 23.190247658543402, 17.028105071363502, 15.778694822956663, 20.406358386535114, 16.983099755670782] Mean: 20.840639618762157\n",
      "The simplified sentences readability: [7.010705515364705, 11.556400652295775, 8.435733637747337, 8.473316508832866, 7.062426194310252, 8.13877512885275, 7.495285621340276, 6.128703249097473, 7.467375338229612, 6.453554175293309] Mean: 7.822227602136435\n",
      "----------------------------------\n",
      "The Percision: [0.8297582669336288, 0.8549789055701225, 0.8581691927380032, 0.7870133951787026, 0.8374290712501692, 0.838691270540631, 0.8390344808686454, 0.82350745677948, 0.8759667575359344, 0.8516586385076008] Mean: 0.8396207435902918\n",
      "The Recall: [0.7890977058254305, 0.7869593097317603, 0.7901108927196927, 0.7784593047634247, 0.8003752089065054, 0.7737465519753713, 0.8116093727777589, 0.7741304898262024, 0.8195144224625367, 0.8000768243320404] Mean: 0.7924080083320724\n",
      "The F1: [0.8084485628565804, 0.8189951988958544, 0.8220833725399441, 0.7823900118950875, 0.8181331352047299, 0.8044074698100014, 0.8246533252158255, 0.7973878010114034, 0.8461872843595651, 0.824411049721733] Mean: 0.8147097211510725\n"
     ]
    }
   ],
   "source": [
    "from readability import Readability\n",
    "from evaluate import load\n",
    "#store the readability score and bert score for all hightlighted sentences and its simplification\n",
    "original_sentences_readability = []\n",
    "simlified_sentences_readability = []\n",
    "bert = []\n",
    "bertscore = load(\"bertscore\")\n",
    "\n",
    "for predicted_file in os.listdir(predicted_dir):\n",
    "    if predicted_file.endswith('_summary.csv'):\n",
    "        print(f'Processing {predicted_file}...')\n",
    "        predicted_path = os.path.join(predicted_dir, predicted_file)\n",
    "        \n",
    "        actual_file = predicted_file.replace('_summary', '')\n",
    "        actual_path = os.path.join(actual_dir, actual_file)\n",
    "        actual_df = pd.read_csv(actual_path,encoding=\"utf8\")\n",
    "        try:\n",
    "            predicted_df = pd.read_csv(predicted_path,encoding=\"utf8\")\n",
    "            #match the index of gpt-4 output with the original sentences\n",
    "            original_sentences_lst = [actual_df.iloc[int(re.sub(r'[^\\d]+', '', i)),0] for i in predicted_df['Highlight']]\n",
    "            #get the simiplified sentences for each original sentences for gpt-4 output\n",
    "            simplified_sentences_lst = predicted_df.iloc[:, 1].tolist()\n",
    "            #group all sentences into one string\n",
    "            original_sentences = ' '.join(original_sentences_lst)\n",
    "            simplified_sentences = ' '.join(simplified_sentences_lst)\n",
    "            #check the readability score for both original and simplified sentences\n",
    "            original_sentences_readability.append(Readability(original_sentences).flesch_kincaid().score)\n",
    "            simlified_sentences_readability.append(Readability(simplified_sentences).flesch_kincaid().score)\n",
    "            #check the bert score for simplified sentences\n",
    "            score = bertscore.compute(references = original_sentences_lst, predictions=simplified_sentences_lst,model_type=\"distilbert-base-uncased\")\n",
    "            bert.append(score)\n",
    "        \n",
    "        except Exception as e:\n",
    "            print('Problem in file: ', predicted_file, 'Skipping...')\n",
    "            print(e)\n",
    "print('----------------------------------')\n",
    "print('The original sentences readability:',original_sentences_readability,'Mean:',np.mean(original_sentences_readability))\n",
    "print('The simplified sentences readability:',simlified_sentences_readability,'Mean:',np.mean(simlified_sentences_readability))\n",
    "print('----------------------------------')\n",
    "print('The Percision:',[np.mean(bert[i]['precision']) for i in range(len(bert))],'Mean:',np.mean([np.mean(bert[i]['precision']) for i in range(len(bert))]))\n",
    "print('The Recall:',[np.mean(bert[i]['recall']) for i in range(len(bert))],'Mean:',np.mean([np.mean(bert[i]['recall']) for i in range(len(bert))]))\n",
    "print('The F1:',[np.mean(bert[i]['f1']) for i in range(len(bert))],'Mean:',np.mean([np.mean(bert[i]['f1']) for i in range(len(bert))]))"
   ]
  }
 ],
 "metadata": {
  "kernelspec": {
   "display_name": "Python 3 (ipykernel)",
   "language": "python",
   "name": "python3"
  },
  "language_info": {
   "codemirror_mode": {
    "name": "ipython",
    "version": 3
   },
   "file_extension": ".py",
   "mimetype": "text/x-python",
   "name": "python",
   "nbconvert_exporter": "python",
   "pygments_lexer": "ipython3",
   "version": "3.10.13"
  }
 },
 "nbformat": 4,
 "nbformat_minor": 2
}
