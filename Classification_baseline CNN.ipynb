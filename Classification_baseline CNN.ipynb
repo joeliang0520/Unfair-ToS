{
  "cells": [
    {
      "cell_type": "code",
      "execution_count": 61,
      "metadata": {
        "id": "O7Bjj4a26pBR"
      },
      "outputs": [],
      "source": [
        "import pandas as pd\n",
        "import numpy as np\n",
        "import os\n",
        "import torch\n",
        "import torchtext\n",
        "from torchtext import data\n",
        "import torch.optim as optim\n",
        "import argparse\n",
        "import os\n",
        "import pandas as pd\n",
        "import torch.nn as nn\n",
        "from torchmetrics.classification import MulticlassAccuracy"
      ]
    },
    {
      "cell_type": "markdown",
      "metadata": {
        "id": "LV2_O66W6pBU"
      },
      "source": [
        "### Importing the dataset"
      ]
    },
    {
      "cell_type": "code",
      "execution_count": 41,
      "metadata": {
        "colab": {
          "base_uri": "https://localhost:8080/",
          "height": 419
        },
        "id": "r80i4aP-6pBV",
        "outputId": "fda8260b-b964-4c8f-e33a-426a16638699"
      },
      "outputs": [
        {
          "data": {
            "text/html": [
              "<div>\n",
              "<style scoped>\n",
              "    .dataframe tbody tr th:only-of-type {\n",
              "        vertical-align: middle;\n",
              "    }\n",
              "\n",
              "    .dataframe tbody tr th {\n",
              "        vertical-align: top;\n",
              "    }\n",
              "\n",
              "    .dataframe thead th {\n",
              "        text-align: right;\n",
              "    }\n",
              "</style>\n",
              "<table border=\"1\" class=\"dataframe\">\n",
              "  <thead>\n",
              "    <tr style=\"text-align: right;\">\n",
              "      <th></th>\n",
              "      <th>text</th>\n",
              "      <th>label</th>\n",
              "    </tr>\n",
              "  </thead>\n",
              "  <tbody>\n",
              "    <tr>\n",
              "      <th>0</th>\n",
              "      <td>websites &amp; communications terms of use</td>\n",
              "      <td>0</td>\n",
              "    </tr>\n",
              "    <tr>\n",
              "      <th>1</th>\n",
              "      <td>please read the terms of this entire document ...</td>\n",
              "      <td>0</td>\n",
              "    </tr>\n",
              "    <tr>\n",
              "      <th>2</th>\n",
              "      <td>by accessing or signing up to receive communic...</td>\n",
              "      <td>4</td>\n",
              "    </tr>\n",
              "    <tr>\n",
              "      <th>3</th>\n",
              "      <td>our websites include multiple domains such as ...</td>\n",
              "      <td>0</td>\n",
              "    </tr>\n",
              "    <tr>\n",
              "      <th>4</th>\n",
              "      <td>you may also recognize our websites by nicknam...</td>\n",
              "      <td>0</td>\n",
              "    </tr>\n",
              "    <tr>\n",
              "      <th>...</th>\n",
              "      <td>...</td>\n",
              "      <td>...</td>\n",
              "    </tr>\n",
              "    <tr>\n",
              "      <th>20412</th>\n",
              "      <td>you may terminate your account at our service ...</td>\n",
              "      <td>0</td>\n",
              "    </tr>\n",
              "    <tr>\n",
              "      <th>20413</th>\n",
              "      <td>the following provisions shall survive termina...</td>\n",
              "      <td>0</td>\n",
              "    </tr>\n",
              "    <tr>\n",
              "      <th>20414</th>\n",
              "      <td>the company reserves the right , at its sole d...</td>\n",
              "      <td>3</td>\n",
              "    </tr>\n",
              "    <tr>\n",
              "      <th>20415</th>\n",
              "      <td>your continued use of the service , following ...</td>\n",
              "      <td>4</td>\n",
              "    </tr>\n",
              "    <tr>\n",
              "      <th>20416</th>\n",
              "      <td>the last revision will be reflected in the `` ...</td>\n",
              "      <td>0</td>\n",
              "    </tr>\n",
              "  </tbody>\n",
              "</table>\n",
              "<p>20417 rows × 2 columns</p>\n",
              "</div>"
            ],
            "text/plain": [
              "                                                    text  label\n",
              "0                 websites & communications terms of use      0\n",
              "1      please read the terms of this entire document ...      0\n",
              "2      by accessing or signing up to receive communic...      4\n",
              "3      our websites include multiple domains such as ...      0\n",
              "4      you may also recognize our websites by nicknam...      0\n",
              "...                                                  ...    ...\n",
              "20412  you may terminate your account at our service ...      0\n",
              "20413  the following provisions shall survive termina...      0\n",
              "20414  the company reserves the right , at its sole d...      3\n",
              "20415  your continued use of the service , following ...      4\n",
              "20416  the last revision will be reflected in the `` ...      0\n",
              "\n",
              "[20417 rows x 2 columns]"
            ]
          },
          "execution_count": 41,
          "metadata": {},
          "output_type": "execute_result"
        }
      ],
      "source": [
        "df = pd.read_csv('Dataset/ToS-100-cleaned.csv',header=0,encoding='utf-8')\n",
        "data = df[['text','label']]\n",
        "data"
      ]
    },
    {
      "cell_type": "markdown",
      "metadata": {
        "id": "yRCf939K6pBV"
      },
      "source": [
        "## Reading the dataset"
      ]
    },
    {
      "cell_type": "code",
      "execution_count": 27,
      "metadata": {
        "id": "7zE__vg46pBV"
      },
      "outputs": [],
      "source": [
        "text = data['text'].values.tolist()\n",
        "labels = data['label'].values.tolist()"
      ]
    },
    {
      "cell_type": "markdown",
      "metadata": {
        "id": "InUKUGRA6pBW"
      },
      "source": [
        "#### HyperParameter"
      ]
    },
    {
      "cell_type": "code",
      "execution_count": 15,
      "metadata": {
        "id": "9g7K3WxS6pBW"
      },
      "outputs": [],
      "source": [
        "embd_size = 64"
      ]
    },
    {
      "cell_type": "markdown",
      "metadata": {
        "id": "VtbFUYQ36pBW"
      },
      "source": [
        "## Tokenization and Embedding"
      ]
    },
    {
      "cell_type": "code",
      "execution_count": 21,
      "metadata": {
        "colab": {
          "base_uri": "https://localhost:8080/"
        },
        "id": "jSPPCL2Z6pBW",
        "outputId": "0f8b6ab5-ac09-401e-b298-f2bd0f106aa8"
      },
      "outputs": [
        {
          "name": "stderr",
          "output_type": "stream",
          "text": [
            "[nltk_data] Downloading package punkt to /Users/joeliang/nltk_data...\n",
            "[nltk_data]   Package punkt is already up-to-date!\n"
          ]
        }
      ],
      "source": [
        "from gensim.models import Word2Vec\n",
        "from nltk.tokenize import word_tokenize\n",
        "import nltk\n",
        "\n",
        "nltk.download('punkt')\n",
        "\n",
        "# Tokenize the sentences\n",
        "tokenized_sentences = [word_tokenize(tos.lower()) for tos in text]\n",
        "\n",
        "# Train the Word2Vec model\n",
        "embedding = Word2Vec(sentences=tokenized_sentences, vector_size=embd_size, window=5, min_count=1, workers=4)\n",
        "\n",
        "# Save the model\n",
        "if not os.path.exists(\"Model/baseline\"):\n",
        "    os.makedirs(\"Model/baseline\")\n",
        "embedding.save(\"Model/baseline/word2vec_model_tos\")\n",
        "\n",
        "# Access word embeddings\n",
        "word_embeddings = embedding.wv\n",
        "tos_embeddings = [[word_embeddings[word] for word in tos] for tos in tokenized_sentences]"
      ]
    },
    {
      "cell_type": "code",
      "execution_count": 18,
      "metadata": {
        "colab": {
          "base_uri": "https://localhost:8080/",
          "height": 481
        },
        "id": "l_YIdy0D6pBX",
        "outputId": "c7e17fa5-91d9-49e3-d14e-0d1bc86deeb5",
        "scrolled": true
      },
      "outputs": [
        {
          "data": {
            "image/png": "[encoded data removed]",
            "text/plain": [
              "<Figure size 640x480 with 1 Axes>"
            ]
          },
          "metadata": {},
          "output_type": "display_data"
        },
        {
          "name": "stdout",
          "output_type": "stream",
          "text": [
            "number of sentences longer than 128: 212\n"
          ]
        }
      ],
      "source": [
        "import matplotlib.pyplot as plt\n",
        "\n",
        "# collect the length of sentences\n",
        "# used to decide on a practical sequence_length for training\n",
        "length_data = [len(tos) for tos in tokenized_sentences]\n",
        "\n",
        "plt.hist(length_data, bins='auto', alpha=0.7, color='blue', edgecolor='black')\n",
        "plt.show()\n",
        "\n",
        "# no of sentences longer than threshold\n",
        "threshold = 128\n",
        "print(f\"number of sentences longer than {threshold}: {len([l for l in length_data if l > threshold])}\")\n"
      ]
    },
    {
      "cell_type": "markdown",
      "metadata": {
        "id": "Al15ZlVj6pBX"
      },
      "source": [
        "## Clean the dataset\n",
        "\n",
        "* Crop sentences longer than seq_length.\n",
        "* Add padding to the beginning of other sentences.\n",
        "* Fix the class imbalance between fair and unfair sentences."
      ]
    },
    {
      "cell_type": "code",
      "execution_count": 29,
      "metadata": {
        "colab": {
          "base_uri": "https://localhost:8080/"
        },
        "id": "sPGcgRtU6pBX",
        "outputId": "aedf7c14-2c91-499b-9832-20073953e7c9"
      },
      "outputs": [
        {
          "name": "stdout",
          "output_type": "stream",
          "text": [
            "After SMOTE sampling\n",
            "number of fair sentences: 18235\n",
            "number of unfair sentences: 18235\n"
          ]
        }
      ],
      "source": [
        "from sklearn.model_selection import train_test_split\n",
        "from imblearn.over_sampling import SMOTE\n",
        "import torch\n",
        "max_length = 128\n",
        "def crop_and_pad(sentence, seq_length=max_length):\n",
        "    length = len(sentence)\n",
        "\n",
        "    if length > seq_length:\n",
        "        new_sentence = sentence[:seq_length]\n",
        "    else:\n",
        "        new_sentence = [np.zeros(embd_size)]*(seq_length - length) + sentence\n",
        "\n",
        "    return new_sentence\n",
        "\n",
        "# crop and pad\n",
        "processed_embeddings = np.stack([crop_and_pad(tos) for tos in tos_embeddings], axis = 0)\n",
        "\n",
        "# class balancing\n",
        "smote = SMOTE(sampling_strategy='auto', random_state=42)\n",
        "\n",
        "indices = [[i] for i in range(len(labels))] # smote requires 2-D array!\n",
        "\n",
        "indices, labels = smote.fit_resample(indices, labels) # smote cannot work on text data, so passing indices\n",
        "\n",
        "processed_embeddings = [torch.tensor(processed_embeddings[i[0]], dtype=torch.float32) for i in indices]\n",
        "labels = torch.tensor(labels, dtype=torch.float32)"
      ]
    },
    {
      "cell_type": "code",
      "execution_count": 30,
      "metadata": {},
      "outputs": [
        {
          "name": "stdout",
          "output_type": "stream",
          "text": [
            "After SMOTE sampling\n",
            "class 0: 18235\n",
            "class 1: 18235\n",
            "class 2: 18235\n",
            "class 3: 18235\n",
            "class 4: 18235\n"
          ]
        }
      ],
      "source": [
        "# make sure class balance is achieved\n",
        "print(\"After SMOTE sampling\")\n",
        "print(f\"class 0: {len([label for label in labels if label == 0])}\")\n",
        "print(f\"class 1: {len([label for label in labels if label == 1])}\")\n",
        "print(f\"class 2: {len([label for label in labels if label == 2])}\")\n",
        "print(f\"class 3: {len([label for label in labels if label == 3])}\")\n",
        "print(f\"class 4: {len([label for label in labels if label == 4])}\")\n",
        "\n",
        "\n",
        "dataset = list(zip(processed_embeddings, labels))\n",
        "\n",
        "# Split the data into training and testing sets\n",
        "train_dataset, test_dataset = train_test_split(dataset, test_size=0.1, random_state=42)"
      ]
    },
    {
      "cell_type": "markdown",
      "metadata": {
        "id": "zO3gIwBJ6pBY"
      },
      "source": [
        "## Classification_model"
      ]
    },
    {
      "cell_type": "code",
      "execution_count": 32,
      "metadata": {
        "id": "_kySsEHl6pBY"
      },
      "outputs": [],
      "source": [
        "from torch.utils.data import DataLoader\n",
        "batch_size = 128\n",
        "train_loader = DataLoader(train_dataset, batch_size=batch_size, shuffle=True)\n",
        "test_loader = DataLoader(test_dataset, batch_size=batch_size, shuffle=True)"
      ]
    },
    {
      "cell_type": "code",
      "execution_count": 50,
      "metadata": {},
      "outputs": [],
      "source": [
        "from datasets import load_from_disk\n",
        "dataset = load_from_disk(dataset_path='Dataset/ToS-100-cleaned-dataset-huggingface')\n",
        "train = pd.DataFrame(dataset['train'])\n",
        "test = pd.DataFrame(dataset['test'])\n",
        "train, validate = train_test_split(train, test_size=0.2, random_state=42)"
      ]
    },
    {
      "cell_type": "code",
      "execution_count": 104,
      "metadata": {},
      "outputs": [],
      "source": [
        "def get_target(y_batch,device):\n",
        "    target = np.zeros((len(y_batch), 5))\n",
        "    index = 0\n",
        "    for y in y_batch:\n",
        "        target[index][y] = 1\n",
        "        index += 1\n",
        "        target = torch.tensor(target).to(torch.float).to(device)\n",
        "    return target"
      ]
    },
    {
      "cell_type": "code",
      "execution_count": 52,
      "metadata": {},
      "outputs": [],
      "source": [
        "class TextDataset(torch.utils.data.Dataset):\n",
        "    def __init__(self, vocab, df):\n",
        "        # X: torch.tensor (maxlen, batch_size), padded indices\n",
        "        # Y: torch.tensor of len N\n",
        "        X, Y = [], []\n",
        "        V = len(vocab.vectors)\n",
        "        for i, row in df.iterrows():\n",
        "            L = row[\"text\"].split()\n",
        "            X.append(torch.tensor([vocab.stoi.get(w, V-1) for w in L]))  # Use the last word in the vocab as the \"out-of-vocabulary\" token\n",
        "            Y.append(row.label)\n",
        "        self.X = X\n",
        "        self.Y = torch.tensor(Y)\n",
        "\n",
        "    def __len__(self):\n",
        "        return len(self.X)\n",
        "\n",
        "    def __getitem__(self, idx):\n",
        "        return self.X[idx], self.Y[idx]\n",
        "    \n",
        "def my_collate_function(batch, device):\n",
        "    # Handle the padding here\n",
        "    # batch is approximately: [dataset[i] for i in range(0, batch_size)]\n",
        "    # Since the dataset[i]'s contents is defined in the __getitem__() above, this collate function\n",
        "    # should be set correspondingly.\n",
        "    # Also: collate_function just takes one argument. To pass in additional arguments (e.g., device),\n",
        "    # we need to wrap up an anonymous function (using lambda below)\n",
        "    batch_x, batch_y = [], []\n",
        "    max_len = 0\n",
        "    for x,y in batch:\n",
        "        batch_y.append(y)\n",
        "        max_len = max(max_len, len(x))\n",
        "    for x,y in batch:\n",
        "        x_p = torch.concat(\n",
        "            [x, torch.zeros(max_len - len(x))]\n",
        "        )\n",
        "        batch_x.append(x_p)\n",
        "    return torch.stack(batch_x).t().int().to(device), torch.tensor(batch_y).to(device)"
      ]
    },
    {
      "cell_type": "code",
      "execution_count": 107,
      "metadata": {},
      "outputs": [],
      "source": [
        "def main(args):\n",
        "    #   fix seed\n",
        "    torch.manual_seed(2)\n",
        "\n",
        "    device = torch.device('cuda' if torch.cuda.is_available() else 'cpu')\n",
        "    print (\"Using device:\", device)\n",
        "\n",
        "    glove = torchtext.vocab.GloVe(name=\"6B\",dim=100)\n",
        "\n",
        "    train_dataset = TextDataset(glove, train)\n",
        "    val_dataset = TextDataset(glove, validate)\n",
        "\n",
        "    train_dataloader = torch.utils.data.DataLoader(\n",
        "        dataset=train_dataset,\n",
        "        batch_size=args.batch_size,\n",
        "        shuffle=False,\n",
        "        collate_fn=lambda batch: my_collate_function(batch, device))\n",
        "\n",
        "    validation_dataloader = torch.utils.data.DataLoader(\n",
        "        dataset=val_dataset,\n",
        "        batch_size=args.batch_size,\n",
        "        shuffle=False,\n",
        "        collate_fn=lambda batch: my_collate_function(batch, device))\n",
        "\n",
        "    # Instantiate your model(s) and train them and so on\n",
        "    # We suggest parameterizing the model - k1, n1, k2, n2, and other hyperparameters\n",
        "    # so that it is easier to experiment with\n",
        "\n",
        "    class CNN(nn.Module):\n",
        "      def __init__(self, embedding_dim, k1, k2, n1, n2):\n",
        "          super(CNN, self).__init__()\n",
        "\n",
        "          self.embedding = nn.Embedding.from_pretrained(glove.vectors)\n",
        "          self.layer1 = nn.Conv2d(1,n1,kernel_size=(k1,embedding_dim),bias = False)\n",
        "          self.activition = torch.nn.ReLU()\n",
        "\n",
        "          self.layer2 = nn.Conv2d(1,n2,kernel_size=(k2,embedding_dim),bias = False)\n",
        "          self.linear = torch.nn.Linear(in_features=n1+n2,out_features= 5)\n",
        "\n",
        "      def forward(self, x):\n",
        "        x = self.embedding(x).permute(1, 0, 2)\n",
        "        x = torch.unsqueeze(x, 1)\n",
        "\n",
        "        x1 = self.layer1(x)\n",
        "        x1  = self.activition(x1).squeeze(3)\n",
        "        x1 = nn.functional.max_pool1d(x1, x1.size(2)).squeeze(2)\n",
        "\n",
        "        x2 = self.layer2(x)\n",
        "        x2 = self.activition(x2).squeeze(3)\n",
        "        x2 = nn.functional.max_pool1d(x2, x2.size(2)).squeeze(2)\n",
        "        x  = torch.cat((x1,x2),1)\n",
        "\n",
        "        logits = self.linear(x)\n",
        "\n",
        "        return logits\n",
        "\n",
        "    def train_cnn(lr_rate,epochs, k1, k2, n1, n2):\n",
        "      network = CNN(100, k1, k2, n1, n2).to(device)\n",
        "      criterion = nn.CrossEntropyLoss().to(device)\n",
        "      optimizer = torch.optim.Adam(network.parameters(),lr = lr_rate)\n",
        "      metric = MulticlassAccuracy(num_classes=5).to(device)\n",
        "\n",
        "      trainepoch_loss = []\n",
        "      valepoch_loss = []\n",
        "      trainepoch_accurcy = []\n",
        "      valepoch_accurcy = []\n",
        "\n",
        "        # validation dataset\n",
        "      def evaluation(network):\n",
        "          valid_loss = []\n",
        "          valid_accuracy = []\n",
        "          for i, (X_batch, y_batch) in enumerate(validation_dataloader):\n",
        "            X_batch.to(device)\n",
        "            target = get_target(y_batch,device)\n",
        "            output = network(X_batch)\n",
        "            loss_val = criterion(output,target.squeeze(1))\n",
        "            # loss and accuracy\n",
        "            probs = torch.sigmoid(output)\n",
        "            valid_accuracy.append(metric(probs, target).item())\n",
        "            valid_loss.append(loss_val.item())\n",
        "          return valid_accuracy,valid_loss\n",
        "\n",
        "      for epoch in range(epochs):\n",
        "          train_loss = []\n",
        "          train_accuracy = []\n",
        "\n",
        "          for i, (X_batch, y_batch) in enumerate(train_dataloader):\n",
        "            target = get_target(y_batch,device)\n",
        "\n",
        "\n",
        "            optimizer.zero_grad()\n",
        "\n",
        "            output = network(X_batch)\n",
        "            loss = criterion(output,target)\n",
        "            loss.backward()\n",
        "            optimizer.step()\n",
        "\n",
        "            # loss and accuracy\n",
        "            train_loss.append(loss.item())\n",
        "\n",
        "            probs = torch.sigmoid(output)\n",
        "            train_accuracy.append(metric(probs, target).item())\n",
        "\n",
        "          # running evaluation function once per two epoch\n",
        "          if (epoch % 2 == 0):\n",
        "            valid_accuracy,valid_loss = evaluation(network)\n",
        "\n",
        "\n",
        "          print(f'\\t\\t ------- Epoch {epoch+1} ---------')\n",
        "          print(f'\\t\\t Training Loss: {np.mean(train_loss)} \\t\\t Training Accurcy: {np.mean(train_accuracy)}')\n",
        "          print(f'\\t\\t Validation Loss: {np.mean(valid_loss)} \\t\\t Validation Accurcy: {np.mean(valid_accuracy)}')\n",
        "\n",
        "          trainepoch_loss.append(np.mean(train_loss))\n",
        "          valepoch_loss.append(np.mean(valid_loss))\n",
        "\n",
        "          trainepoch_accurcy.append(np.mean(train_accuracy))\n",
        "          valepoch_accurcy.append(np.mean(valid_accuracy))\n",
        "\n",
        "      return trainepoch_loss,trainepoch_accurcy,valepoch_loss,valepoch_accurcy,network\n",
        "\n",
        "    trainepoch_loss,trainepoch_accurcy,valepoch_loss,valepoch_accurcy,network = train_cnn(0.003,40,args.k1,args.k2,args.n1,args.n2)\n",
        "    return trainepoch_loss,trainepoch_accurcy,valepoch_loss,valepoch_accurcy,network"
      ]
    },
    {
      "cell_type": "code",
      "execution_count": 112,
      "metadata": {},
      "outputs": [
        {
          "name": "stdout",
          "output_type": "stream",
          "text": [
            "===10===2===4===60\n",
            "Using device: cpu\n"
          ]
        },
        {
          "name": "stderr",
          "output_type": "stream",
          "text": [
            "/var/folders/v4/nb6fv1kd5zjc4dx7n_vnd8mr0000gn/T/ipykernel_70595/2189369551.py:7: UserWarning: To copy construct from a tensor, it is recommended to use sourceTensor.clone().detach() or sourceTensor.clone().detach().requires_grad_(True), rather than torch.tensor(sourceTensor).\n",
            "  target = torch.tensor(target).to(torch.float).to(device)\n"
          ]
        },
        {
          "name": "stdout",
          "output_type": "stream",
          "text": [
            "\t\t ------- Epoch 1 ---------\n",
            "\t\t Training Loss: 0.4128002048292115 \t\t Training Accurcy: 0.5\n",
            "\t\t Validation Loss: 0.21851379037451968 \t\t Validation Accurcy: 0.5\n",
            "\t\t ------- Epoch 2 ---------\n",
            "\t\t Training Loss: 0.1578863416119074 \t\t Training Accurcy: 0.5\n",
            "\t\t Validation Loss: 0.21851379037451968 \t\t Validation Accurcy: 0.5\n",
            "\t\t ------- Epoch 3 ---------\n",
            "\t\t Training Loss: 0.08868737553442639 \t\t Training Accurcy: 0.5\n",
            "\t\t Validation Loss: 0.09174735820373801 \t\t Validation Accurcy: 0.5\n",
            "\t\t ------- Epoch 4 ---------\n",
            "\t\t Training Loss: 0.05884459543059043 \t\t Training Accurcy: 0.5000214224558359\n",
            "\t\t Validation Loss: 0.09174735820373801 \t\t Validation Accurcy: 0.5\n",
            "\t\t ------- Epoch 5 ---------\n",
            "\t\t Training Loss: 0.04560560678465026 \t\t Training Accurcy: 0.5002142245583587\n",
            "\t\t Validation Loss: 0.15065409811090022 \t\t Validation Accurcy: 0.5003424658350748\n",
            "\t\t ------- Epoch 6 ---------\n",
            "\t\t Training Loss: 0.03520272093663381 \t\t Training Accurcy: 0.5015852617063171\n",
            "\t\t Validation Loss: 0.15065409811090022 \t\t Validation Accurcy: 0.5003424658350748\n",
            "\t\t ------- Epoch 7 ---------\n",
            "\t\t Training Loss: 0.03020881614062183 \t\t Training Accurcy: 0.503556127668755\n",
            "\t\t Validation Loss: 0.19591252500094614 \t\t Validation Accurcy: 0.503595891268286\n",
            "\t\t ------- Epoch 8 ---------\n",
            "\t\t Training Loss: 0.031080196584394836 \t\t Training Accurcy: 0.5068766082467028\n",
            "\t\t Validation Loss: 0.19591252500094614 \t\t Validation Accurcy: 0.503595891268286\n",
            "\t\t ------- Epoch 9 ---------\n",
            "\t\t Training Loss: 0.027267870760267172 \t\t Training Accurcy: 0.5096401050495305\n",
            "\t\t Validation Loss: 0.15378242105628312 \t\t Validation Accurcy: 0.5066780837839597\n",
            "\t\t ------- Epoch 10 ---------\n",
            "\t\t Training Loss: 0.02262451028898025 \t\t Training Accurcy: 0.5146958046012591\n",
            "\t\t Validation Loss: 0.15378242105628312 \t\t Validation Accurcy: 0.5066780837839597\n",
            "\t\t ------- Epoch 11 ---------\n",
            "\t\t Training Loss: 0.023618992015078537 \t\t Training Accurcy: 0.5216366800367066\n",
            "\t\t Validation Loss: 0.17840973644641595 \t\t Validation Accurcy: 0.5275684991111494\n",
            "\t\t ------- Epoch 12 ---------\n",
            "\t\t Training Loss: 0.026191360773631458 \t\t Training Accurcy: 0.5266281116080264\n",
            "\t\t Validation Loss: 0.17840973644641595 \t\t Validation Accurcy: 0.5275684991111494\n",
            "\t\t ------- Epoch 13 ---------\n",
            "\t\t Training Loss: 0.021107771951467003 \t\t Training Accurcy: 0.5324978640473798\n",
            "\t\t Validation Loss: 0.10617010727770432 \t\t Validation Accurcy: 0.5255993203553435\n",
            "\t\t ------- Epoch 14 ---------\n",
            "\t\t Training Loss: 0.02153279502047052 \t\t Training Accurcy: 0.5378748996449825\n",
            "\t\t Validation Loss: 0.10617010727770432 \t\t Validation Accurcy: 0.5255993203553435\n",
            "\t\t ------- Epoch 15 ---------\n",
            "\t\t Training Loss: 0.019383785807988226 \t\t Training Accurcy: 0.5451156884150926\n",
            "\t\t Validation Loss: 0.14771316360357614 \t\t Validation Accurcy: 0.5373002348901474\n",
            "\t\t ------- Epoch 16 ---------\n",
            "\t\t Training Loss: 0.018576823551528697 \t\t Training Accurcy: 0.5508354830251562\n",
            "\t\t Validation Loss: 0.14771316360357614 \t\t Validation Accurcy: 0.5373002348901474\n",
            "\t\t ------- Epoch 17 ---------\n",
            "\t\t Training Loss: 0.01785854748341916 \t\t Training Accurcy: 0.5569194592056667\n",
            "\t\t Validation Loss: 0.23227770866955189 \t\t Validation Accurcy: 0.556599608329061\n",
            "\t\t ------- Epoch 18 ---------\n",
            "\t\t Training Loss: 0.018829190249815893 \t\t Training Accurcy: 0.564770787520192\n",
            "\t\t Validation Loss: 0.23227770866955189 \t\t Validation Accurcy: 0.556599608329061\n",
            "\t\t ------- Epoch 19 ---------\n",
            "\t\t Training Loss: 0.017829907232178567 \t\t Training Accurcy: 0.5709458081611938\n",
            "\t\t Validation Loss: 0.11434187592909639 \t\t Validation Accurcy: 0.566431229551361\n",
            "\t\t ------- Epoch 20 ---------\n",
            "\t\t Training Loss: 0.021750748772929825 \t\t Training Accurcy: 0.5806555340151145\n",
            "\t\t Validation Loss: 0.11434187592909639 \t\t Validation Accurcy: 0.566431229551361\n",
            "\t\t ------- Epoch 21 ---------\n",
            "\t\t Training Loss: 0.01582132406419133 \t\t Training Accurcy: 0.5801467507847784\n",
            "\t\t Validation Loss: 0.07129763521606271 \t\t Validation Accurcy: 0.5857876768871529\n",
            "\t\t ------- Epoch 22 ---------\n",
            "\t\t Training Loss: 0.016087505956630284 \t\t Training Accurcy: 0.5947033047369635\n",
            "\t\t Validation Loss: 0.07129763521606271 \t\t Validation Accurcy: 0.5857876768871529\n",
            "\t\t ------- Epoch 23 ---------\n",
            "\t\t Training Loss: 0.015743844813104833 \t\t Training Accurcy: 0.5967330812079945\n",
            "\t\t Validation Loss: 0.1388218664765314 \t\t Validation Accurcy: 0.5892694122987251\n",
            "\t\t ------- Epoch 24 ---------\n",
            "\t\t Training Loss: 0.01651949338979546 \t\t Training Accurcy: 0.6023832517448612\n",
            "\t\t Validation Loss: 0.1388218664765314 \t\t Validation Accurcy: 0.5892694122987251\n",
            "\t\t ------- Epoch 25 ---------\n",
            "\t\t Training Loss: 0.012887968891904258 \t\t Training Accurcy: 0.6115145703207864\n",
            "\t\t Validation Loss: 0.14567454225842377 \t\t Validation Accurcy: 0.5949629053269347\n",
            "\t\t ------- Epoch 26 ---------\n",
            "\t\t Training Loss: 0.015991865714461137 \t\t Training Accurcy: 0.6052324379113564\n",
            "\t\t Validation Loss: 0.14567454225842377 \t\t Validation Accurcy: 0.5949629053269347\n",
            "\t\t ------- Epoch 27 ---------\n",
            "\t\t Training Loss: 0.01522378398947951 \t\t Training Accurcy: 0.6047665000012928\n",
            "\t\t Validation Loss: 0.13513287826779433 \t\t Validation Accurcy: 0.6017908143670592\n",
            "\t\t ------- Epoch 28 ---------\n",
            "\t\t Training Loss: 0.018002228158804087 \t\t Training Accurcy: 0.6146368926778857\n",
            "\t\t Validation Loss: 0.13513287826779433 \t\t Validation Accurcy: 0.6017908143670592\n",
            "\t\t ------- Epoch 29 ---------\n",
            "\t\t Training Loss: 0.01497854353256667 \t\t Training Accurcy: 0.6239663685553076\n",
            "\t\t Validation Loss: 0.13657425897295564 \t\t Validation Accurcy: 0.6160388154118028\n",
            "\t\t ------- Epoch 30 ---------\n",
            "\t\t Training Loss: 0.015078195198415523 \t\t Training Accurcy: 0.6357487150258045\n",
            "\t\t Validation Loss: 0.13657425897295564 \t\t Validation Accurcy: 0.6160388154118028\n"
          ]
        }
      ],
      "source": [
        "np.random.seed(43)\n",
        "torch.manual_seed(43)\n",
        "\n",
        "# different combinations\n",
        "batch_size = [10]\n",
        "k = [[2,4]]\n",
        "n = [60]\n",
        "\n",
        "#through each hyperparameter\n",
        "for batch in batch_size:\n",
        "  for k1,k2 in k:\n",
        "    for n_size in n:\n",
        "      print('===' + str(batch) + '===' + str(k1) + '===' + str(k2) + '===' + str(n_size))\n",
        "      trainepoch_loss,trainepoch_accurcy,valepoch_loss,valepoch_accurcy,network = main(\n",
        "          args=argparse.Namespace(batch_size=batch,overfit = False,k1 = k1,k2 = k2,n1=n_size,n2=n_size))"
      ]
    },
    {
      "cell_type": "code",
      "execution_count": null,
      "metadata": {},
      "outputs": [],
      "source": [
        "test_accuracy = []\n",
        "device = torch.device('cuda' if torch.cuda.is_available() else 'cpu')\n",
        "metric = MulticlassAccuracy(num_classes=5).to(device)\n",
        "\n",
        "glove = torchtext.vocab.GloVe(name=\"6B\",dim=100)\n",
        "\n",
        "test_dataset = TextDataset(glove, \"test\")\n",
        "\n",
        "test_dataloader = torch.utils.data.DataLoader(\n",
        "    dataset=test_dataset,batch_size=5,\n",
        "    shuffle=False,\n",
        "    collate_fn=lambda batch: my_collate_function(batch, device))\n",
        "\n",
        "\n",
        "for i, (X_batch, y_batch) in enumerate(test_dataloader):\n",
        "  target = torch.tensor([[y] for y in y_batch]).to(torch.float).to(device)\n",
        "  X_batch.to(device)\n",
        "  output = network(X_batch)\n",
        "  probs = torch.sigmoid(output)\n",
        "  test_accuracy.append(metric(probs, target).item())\n",
        "  \n",
        "print('the final test accuracy is: ' + str(np.mean(test_accuracy)))"
      ]
    }
  ],
  "metadata": {
    "accelerator": "GPU",
    "colab": {
      "gpuType": "T4",
      "provenance": []
    },
    "kernelspec": {
      "display_name": "Python 3",
      "name": "python3"
    },
    "language_info": {
      "codemirror_mode": {
        "name": "ipython",
        "version": 3
      },
      "file_extension": ".py",
      "mimetype": "text/x-python",
      "name": "python",
      "nbconvert_exporter": "python",
      "pygments_lexer": "ipython3",
      "version": "3.10.13"
    }
  },
  "nbformat": 4,
  "nbformat_minor": 0
}
